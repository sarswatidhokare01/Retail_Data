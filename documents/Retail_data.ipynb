{
 "cells": [
  {
   "cell_type": "markdown",
   "id": "5bafb0b0",
   "metadata": {},
   "source": [
    "# Retail Insight Pro: Data-Driven Analysis for Optimizing Retail Operations"
   ]
  },
  {
   "cell_type": "markdown",
   "id": "658fe74c",
   "metadata": {},
   "source": [
    "---------------------------------------------------------------------------------------------------------------------------"
   ]
  },
  {
   "cell_type": "markdown",
   "id": "90c4fb0c",
   "metadata": {},
   "source": [
    "### 1. Import Libraries"
   ]
  },
  {
   "cell_type": "markdown",
   "id": "71d67253",
   "metadata": {},
   "source": [
    "Import essential Python libraries like pandas, numpy, matplotlib.pyplot, and seaborn for data manipulation, numerical operations, and visualization."
   ]
  },
  {
   "cell_type": "code",
   "execution_count": 2,
   "id": "4499018d",
   "metadata": {},
   "outputs": [],
   "source": [
    "import pandas as pd\n",
    "import numpy as np\n",
    "import matplotlib.pyplot as plt\n",
    "import seaborn as sns"
   ]
  },
  {
   "cell_type": "markdown",
   "id": "eae2078e",
   "metadata": {},
   "source": [
    "--------------------------------------------------------------------------------------------------------------------------"
   ]
  },
  {
   "cell_type": "markdown",
   "id": "bd46a2ba",
   "metadata": {},
   "source": [
    "## Download Retail_data and Modify Changes Accordingly"
   ]
  },
  {
   "cell_type": "markdown",
   "id": "0c7488d7",
   "metadata": {},
   "source": [
    "### 1. modify the dataset by adding 2025 data "
   ]
  },
  {
   "cell_type": "code",
   "execution_count": 23,
   "id": "1f413868",
   "metadata": {},
   "outputs": [],
   "source": [
    "df=pd.read_csv(\"D:/RAHUL-SIR-MCA-PROJECT/Raw_Data/Kaggle_Retail_data.csv\")"
   ]
  },
  {
   "cell_type": "code",
   "execution_count": 24,
   "id": "769cda10",
   "metadata": {},
   "outputs": [
    {
     "data": {
      "text/plain": [
       "2023.0    251852\n",
       "2025.0     69731\n",
       "2024.0     49808\n",
       "Name: Year, dtype: int64"
      ]
     },
     "execution_count": 24,
     "metadata": {},
     "output_type": "execute_result"
    }
   ],
   "source": [
    "import numpy as np\n",
    "\n",
    "# Define growth factor for 2025 sales (e.g., 40% increase over 2024 sales count)\n",
    "growth_factor = 1.4\n",
    "sales_2025_count = int(len(df[df['Year'] == 2024.0]) * growth_factor)\n",
    "\n",
    "# Sample records from 2024 to create synthetic 2025 data\n",
    "df_2025 = df[df['Year'] == 2024.0].sample(n=sales_2025_count, replace=True).copy()\n",
    "\n",
    "# Update the year to 2025\n",
    "df_2025['Year'] = 2025\n",
    "\n",
    "# Increase total sales amount for 2025 by 15-25%\n",
    "df_2025['Total_Amount'] *= np.random.uniform(1.15, 1.25, size=sales_2025_count)\n",
    "\n",
    "# Combine with original dataset\n",
    "df_updated = pd.concat([df, df_2025], ignore_index=True)\n",
    "\n",
    "# Verify the new dataset distribution\n",
    "df_updated['Year'].value_counts()\n"
   ]
  },
  {
   "cell_type": "markdown",
   "id": "d9e1634d",
   "metadata": {},
   "source": [
    "### 2. Save this file"
   ]
  },
  {
   "cell_type": "code",
   "execution_count": 25,
   "id": "d8eeb79c",
   "metadata": {},
   "outputs": [
    {
     "data": {
      "text/plain": [
       "'D:/RAHUL-SIR-MCA-PROJECT-Copy/Bronz_Data/Retail_data.csv'"
      ]
     },
     "execution_count": 25,
     "metadata": {},
     "output_type": "execute_result"
    }
   ],
   "source": [
    "# Save the updated dataset\n",
    "updated_file_path = \"D:/RAHUL-SIR-MCA-PROJECT-Copy/Bronz_Data/Retail_data.csv\"\n",
    "df_updated.to_csv(updated_file_path, index=False)\n",
    "\n",
    "# Return the file path for reference\n",
    "updated_file_path\n"
   ]
  },
  {
   "cell_type": "markdown",
   "id": "7d41cd47",
   "metadata": {},
   "source": [
    "### 3. Date column to be updated correctly along with the Year column"
   ]
  },
  {
   "cell_type": "code",
   "execution_count": 26,
   "id": "a2363d16",
   "metadata": {},
   "outputs": [],
   "source": [
    "import pandas as pd\n",
    "\n",
    "# Ensure Date column is in datetime format\n",
    "df_2025['Date'] = pd.to_datetime(df_2025['Date'], errors='coerce')\n",
    "\n",
    "# Function to replace year while handling leap year issues\n",
    "def update_year(date):\n",
    "    if pd.notnull(date):\n",
    "        try:\n",
    "            return date.replace(year=2025)  # Change year to 2025\n",
    "        except ValueError:  \n",
    "            return date.replace(year=2025, day=28)  # Adjust Feb 29 to Feb 28\n",
    "    return None\n",
    "\n",
    "# Apply the function to update dates\n",
    "df_2025['Date'] = df_2025['Date'].apply(update_year)\n"
   ]
  },
  {
   "cell_type": "code",
   "execution_count": 16,
   "id": "0d57ab96",
   "metadata": {},
   "outputs": [
    {
     "name": "stderr",
     "output_type": "stream",
     "text": [
      "C:\\Users\\PRADEEP TIPPE\\AppData\\Local\\Temp\\ipykernel_10928\\4227341894.py:16: FutureWarning: Treating datetime data as categorical rather than numeric in `.describe` is deprecated and will be removed in a future version of pandas. Specify `datetime_is_numeric=True` to silence this warning and adopt the future behavior now.\n",
      "  df_updated[df_updated['Year'] == 2025]['Date'].describe()\n"
     ]
    },
    {
     "data": {
      "text/plain": [
       "count                   69644\n",
       "unique                     59\n",
       "top       2025-02-28 00:00:00\n",
       "freq                     2309\n",
       "first     2025-01-01 00:00:00\n",
       "last      2025-02-28 00:00:00\n",
       "Name: Date, dtype: object"
      ]
     },
     "execution_count": 16,
     "metadata": {},
     "output_type": "execute_result"
    }
   ],
   "source": [
    "from datetime import datetime, timedelta\n",
    "\n",
    "# Convert 'Date' column to datetime format (handling missing values)\n",
    "df['Date'] = pd.to_datetime(df['Date'], errors='coerce')\n",
    "\n",
    "# Ensure Date column is in datetime format\n",
    "df_2025['Date'] = pd.to_datetime(df_2025['Date'], errors='coerce')\n",
    "\n",
    "# Generate new 2025 dates while keeping the same month-day structure\n",
    "df_2025['Date'] = df_2025['Date'].apply(lambda x: x.replace(year=2025) if pd.notnull(x) else None)\n",
    "\n",
    "# Merge the updated dataset\n",
    "df_updated = pd.concat([df, df_2025], ignore_index=True)\n",
    "\n",
    "# Verify changes in the Date column for 2025\n",
    "df_updated[df_updated['Year'] == 2025]['Date'].describe()\n"
   ]
  },
  {
   "cell_type": "code",
   "execution_count": 27,
   "id": "940cdde4",
   "metadata": {},
   "outputs": [],
   "source": [
    "# Save the updated dataset\n",
    "df_updated.to_csv(\"D:/RAHUL-SIR-MCA-PROJECT-Copy/Bronz_Data/Retail_data.csv\", index=False)\n"
   ]
  },
  {
   "cell_type": "markdown",
   "id": "f5c8a288",
   "metadata": {},
   "source": [
    "### 4.  Generating Ship Date & Delivery Date"
   ]
  },
  {
   "cell_type": "code",
   "execution_count": 19,
   "id": "4827d3be",
   "metadata": {},
   "outputs": [
    {
     "name": "stdout",
     "output_type": "stream",
     "text": [
      "Index(['Transaction_ID', 'Customer_ID', 'Name', 'Email', 'Phone', 'Address',\n",
      "       'City', 'State', 'Zipcode', 'Country', 'Age', 'Gender', 'Income',\n",
      "       'Customer_Segment', 'Date', 'Year', 'Month', 'Time', 'Total_Purchases',\n",
      "       'Amount', 'Total_Amount', 'Product_Category', 'Product_Brand',\n",
      "       'Product_Type', 'Feedback', 'Shipping_Method', 'Payment_Method',\n",
      "       'Order_Status', 'Ratings', 'products'],\n",
      "      dtype='object')\n"
     ]
    }
   ],
   "source": [
    "print(df_updated.columns)"
   ]
  },
  {
   "cell_type": "code",
   "execution_count": 28,
   "id": "be0a9c20",
   "metadata": {},
   "outputs": [],
   "source": [
    "import numpy as np\n",
    "\n",
    "data=pd.read_csv(\"D:/RAHUL-SIR-MCA-PROJECT-Copy/Bronz_Data/Retail_data.csv\")\n",
    "\n",
    "# Ensure Order Date is in datetime format\n",
    "data['Date'] = pd.to_datetime(data['Date'], errors='coerce')\n",
    "\n",
    "# Function to generate Ship Date & Delivery Date\n",
    "def generate_dates(row):\n",
    "    if pd.notnull(row['Date']) and pd.notnull(row['Customer_Segment']):\n",
    "        if row['Customer_Segment'] == 'Regular':\n",
    "            ship_days = 4\n",
    "            delivery_days = np.random.choice([2, 3])  # Randomly pick 2 or 3 days\n",
    "        elif row['Customer_Segment'] == 'Premium':\n",
    "            ship_days = 3\n",
    "            delivery_days = np.random.choice([1, 2])  # Randomly pick 1 or 2 days\n",
    "        elif row['Customer_Segment'] == 'New':\n",
    "            ship_days = 4\n",
    "            delivery_days = np.random.choice([3, 4])  # Randomly pick 3 or 4 days\n",
    "        else:\n",
    "            return None, None  # If segment is unknown\n",
    "\n",
    "        # Compute Ship Date and Delivery Date\n",
    "        ship_date = row['Date'] + pd.Timedelta(days=ship_days)\n",
    "        delivery_date = ship_date + pd.Timedelta(days=delivery_days)\n",
    "        return ship_date, delivery_date\n",
    "    return None, None\n",
    "\n",
    "# Apply function to update dataset\n",
    "data[['Ship Date', 'Delivery Date']] = data.apply(generate_dates, axis=1, result_type='expand')\n"
   ]
  },
  {
   "cell_type": "markdown",
   "id": "2b884fdc",
   "metadata": {},
   "source": [
    "### 5.  Generate Product IDs"
   ]
  },
  {
   "cell_type": "code",
   "execution_count": 29,
   "id": "c45e5984",
   "metadata": {},
   "outputs": [
    {
     "name": "stdout",
     "output_type": "stream",
     "text": [
      "            products Product ID\n",
      "0     Cycling shorts      69417\n",
      "1         Lenovo Tab      24176\n",
      "2   Sports equipment      48029\n",
      "3      Utility knife      89705\n",
      "4  Chocolate cookies      88714\n"
     ]
    }
   ],
   "source": [
    "import pandas as pd\n",
    "import random\n",
    "\n",
    "# Generate a unique Product ID\n",
    "def generate_product_id():\n",
    "    return f\"{random.randint(10000, 99999)}\"\n",
    "\n",
    "# Ensure 'Product Name' column exists\n",
    "if 'products' in data.columns:\n",
    "    data['Product ID'] = data['products'].apply(lambda x: generate_product_id())\n",
    "\n",
    "# Check the first few rows\n",
    "print(data[['products', 'Product ID']].head())\n"
   ]
  },
  {
   "cell_type": "code",
   "execution_count": 30,
   "id": "ecb92171",
   "metadata": {},
   "outputs": [],
   "source": [
    "data.to_csv(\"D:/RAHUL-SIR-MCA-PROJECT-Copy/Bronz_Data/Retail_data.csv\", index=False)"
   ]
  },
  {
   "cell_type": "markdown",
   "id": "57388e1a",
   "metadata": {},
   "source": [
    "---------------------------------------------------------------------------------------------------------------------------"
   ]
  },
  {
   "cell_type": "markdown",
   "id": "eaeac7a7",
   "metadata": {},
   "source": [
    "## Preprocess data and save into Bronze Layer"
   ]
  },
  {
   "cell_type": "markdown",
   "id": "7d720bb2",
   "metadata": {},
   "source": [
    "### 1. generate three separate CSV files "
   ]
  },
  {
   "cell_type": "markdown",
   "id": "f1d17cb8",
   "metadata": {},
   "source": [
    "* customer.csv\n",
    "* order.csv\n",
    "* product.csv"
   ]
  },
  {
   "cell_type": "code",
   "execution_count": 31,
   "id": "8d02f247",
   "metadata": {},
   "outputs": [
    {
     "name": "stdout",
     "output_type": "stream",
     "text": [
      "Index(['Transaction_ID', 'Customer_ID', 'Name', 'Email', 'Phone', 'Address',\n",
      "       'City', 'State', 'Zipcode', 'Country', 'Age', 'Gender', 'Income',\n",
      "       'Customer_Segment', 'Date', 'Year', 'Month', 'Time', 'Total_Purchases',\n",
      "       'Amount', 'Total_Amount', 'Product_Category', 'Product_Brand',\n",
      "       'Product_Type', 'Feedback', 'Shipping_Method', 'Payment_Method',\n",
      "       'Order_Status', 'Ratings', 'products', 'Ship Date', 'Delivery Date',\n",
      "       'Product ID'],\n",
      "      dtype='object')\n"
     ]
    }
   ],
   "source": [
    "print(data.columns)"
   ]
  },
  {
   "cell_type": "code",
   "execution_count": 35,
   "id": "f42b143e",
   "metadata": {},
   "outputs": [
    {
     "data": {
      "text/plain": [
       "('D:/RAHUL-SIR-MCA-PROJECT-Copy/Bronz_Data/customer.csv',\n",
       " 'D:/RAHUL-SIR-MCA-PROJECT-Copy/Bronz_Data/order.csv',\n",
       " 'D:/RAHUL-SIR-MCA-PROJECT-Copy/Bronz_Data/product.csv')"
      ]
     },
     "execution_count": 35,
     "metadata": {},
     "output_type": "execute_result"
    }
   ],
   "source": [
    "import pandas as pd\n",
    "\n",
    "\n",
    "# Separate columns into different DataFrames as per requirements\n",
    "\n",
    "# Customer Data\n",
    "customer_columns = [\n",
    "    \"Customer_ID\", \"Name\", \"Email\", \"Phone\", \"Address\", \"City\", \"State\", \"Zipcode\", \n",
    "    \"Country\", \"Age\", \"Gender\", \"Income\", \"Customer_Segment\", \"Feedback\", \"Ratings\", \n",
    "    \"Transaction_ID\", \"Product ID\"\n",
    "]\n",
    "customer_df = data[customer_columns].drop_duplicates()\n",
    "\n",
    "# Order Data\n",
    "order_columns = [\n",
    "    \"Transaction_ID\", \"Date\", \"Ship Date\", \"Delivery Date\", \"Year\", \"Month\", \"Time\", \n",
    "    \"Total_Purchases\", \"Amount\", \"Total_Amount\", \"Shipping_Method\", \"Payment_Method\", \n",
    "    \"Order_Status\", \"Product ID\", \"Customer_ID\"\n",
    "]\n",
    "order_df = data[order_columns].drop_duplicates()\n",
    "\n",
    "# Product Data\n",
    "product_columns = [\n",
    "    \"Product ID\", \"products\", \"Product_Category\", \"Product_Brand\", \"Product_Type\", \n",
    "    \"Customer_ID\", \"Transaction_ID\"\n",
    "]\n",
    "product_df = data[product_columns].drop_duplicates()\n",
    "\n",
    "# Save files as CSV\n",
    "customer_csv_path = \"D:/RAHUL-SIR-MCA-PROJECT-Copy/Bronz_Data/customer.csv\"\n",
    "order_csv_path = \"D:/RAHUL-SIR-MCA-PROJECT-Copy/Bronz_Data/order.csv\"\n",
    "product_csv_path = \"D:/RAHUL-SIR-MCA-PROJECT-Copy/Bronz_Data/product.csv\"\n",
    "\n",
    "customer_df.to_csv(customer_csv_path, index=False)\n",
    "order_df.to_csv(order_csv_path, index=False)\n",
    "product_df.to_csv(product_csv_path, index=False)\n",
    "\n",
    "customer_csv_path, order_csv_path, product_csv_path\n"
   ]
  },
  {
   "cell_type": "markdown",
   "id": "8f484c80",
   "metadata": {},
   "source": [
    "## 2. Exploratory Data Analysis"
   ]
  },
  {
   "cell_type": "markdown",
   "id": "866d909a",
   "metadata": {},
   "source": [
    "Key Purposes of EDA:\n",
    "\n",
    "* Loading Data\n",
    "* Basic Data Information\n",
    "* Handling Missing Data\n",
    "* check Duplicates\n",
    "* Data Preprocessing"
   ]
  },
  {
   "cell_type": "markdown",
   "id": "218e0199",
   "metadata": {},
   "source": [
    "## 2.1 Loading Data"
   ]
  },
  {
   "cell_type": "code",
   "execution_count": 36,
   "id": "2ea2379d",
   "metadata": {},
   "outputs": [
    {
     "data": {
      "text/html": [
       "<div>\n",
       "<style scoped>\n",
       "    .dataframe tbody tr th:only-of-type {\n",
       "        vertical-align: middle;\n",
       "    }\n",
       "\n",
       "    .dataframe tbody tr th {\n",
       "        vertical-align: top;\n",
       "    }\n",
       "\n",
       "    .dataframe thead th {\n",
       "        text-align: right;\n",
       "    }\n",
       "</style>\n",
       "<table border=\"1\" class=\"dataframe\">\n",
       "  <thead>\n",
       "    <tr style=\"text-align: right;\">\n",
       "      <th></th>\n",
       "      <th>Transaction_ID</th>\n",
       "      <th>Customer_ID</th>\n",
       "      <th>Name</th>\n",
       "      <th>Email</th>\n",
       "      <th>Phone</th>\n",
       "      <th>Address</th>\n",
       "      <th>City</th>\n",
       "      <th>State</th>\n",
       "      <th>Zipcode</th>\n",
       "      <th>Country</th>\n",
       "      <th>...</th>\n",
       "      <th>Product_Type</th>\n",
       "      <th>Feedback</th>\n",
       "      <th>Shipping_Method</th>\n",
       "      <th>Payment_Method</th>\n",
       "      <th>Order_Status</th>\n",
       "      <th>Ratings</th>\n",
       "      <th>products</th>\n",
       "      <th>Ship Date</th>\n",
       "      <th>Delivery Date</th>\n",
       "      <th>Product ID</th>\n",
       "    </tr>\n",
       "  </thead>\n",
       "  <tbody>\n",
       "    <tr>\n",
       "      <th>0</th>\n",
       "      <td>8691788.0</td>\n",
       "      <td>37249.0</td>\n",
       "      <td>Michelle Harrington</td>\n",
       "      <td>Ebony39@gmail.com</td>\n",
       "      <td>1.414787e+09</td>\n",
       "      <td>3959 Amanda Burgs</td>\n",
       "      <td>Dortmund</td>\n",
       "      <td>Berlin</td>\n",
       "      <td>77985.0</td>\n",
       "      <td>Germany</td>\n",
       "      <td>...</td>\n",
       "      <td>Shorts</td>\n",
       "      <td>Excellent</td>\n",
       "      <td>Same-Day</td>\n",
       "      <td>Debit Card</td>\n",
       "      <td>Shipped</td>\n",
       "      <td>5.0</td>\n",
       "      <td>Cycling shorts</td>\n",
       "      <td>2023-09-22</td>\n",
       "      <td>2023-09-24</td>\n",
       "      <td>69417</td>\n",
       "    </tr>\n",
       "    <tr>\n",
       "      <th>1</th>\n",
       "      <td>2174773.0</td>\n",
       "      <td>69749.0</td>\n",
       "      <td>Kelsey Hill</td>\n",
       "      <td>Mark36@gmail.com</td>\n",
       "      <td>6.852900e+09</td>\n",
       "      <td>82072 Dawn Centers</td>\n",
       "      <td>Nottingham</td>\n",
       "      <td>England</td>\n",
       "      <td>99071.0</td>\n",
       "      <td>UK</td>\n",
       "      <td>...</td>\n",
       "      <td>Tablet</td>\n",
       "      <td>Excellent</td>\n",
       "      <td>Standard</td>\n",
       "      <td>Credit Card</td>\n",
       "      <td>Processing</td>\n",
       "      <td>4.0</td>\n",
       "      <td>Lenovo Tab</td>\n",
       "      <td>2024-01-03</td>\n",
       "      <td>2024-01-04</td>\n",
       "      <td>24176</td>\n",
       "    </tr>\n",
       "    <tr>\n",
       "      <th>2</th>\n",
       "      <td>6679610.0</td>\n",
       "      <td>30192.0</td>\n",
       "      <td>Scott Jensen</td>\n",
       "      <td>Shane85@gmail.com</td>\n",
       "      <td>8.362160e+09</td>\n",
       "      <td>4133 Young Canyon</td>\n",
       "      <td>Geelong</td>\n",
       "      <td>New South Wales</td>\n",
       "      <td>75929.0</td>\n",
       "      <td>Australia</td>\n",
       "      <td>...</td>\n",
       "      <td>Children's</td>\n",
       "      <td>Average</td>\n",
       "      <td>Same-Day</td>\n",
       "      <td>Credit Card</td>\n",
       "      <td>Processing</td>\n",
       "      <td>2.0</td>\n",
       "      <td>Sports equipment</td>\n",
       "      <td>2023-04-30</td>\n",
       "      <td>2023-05-03</td>\n",
       "      <td>48029</td>\n",
       "    </tr>\n",
       "    <tr>\n",
       "      <th>3</th>\n",
       "      <td>7232460.0</td>\n",
       "      <td>62101.0</td>\n",
       "      <td>Joseph Miller</td>\n",
       "      <td>Mary34@gmail.com</td>\n",
       "      <td>2.776752e+09</td>\n",
       "      <td>8148 Thomas Creek Suite 100</td>\n",
       "      <td>Edmonton</td>\n",
       "      <td>Ontario</td>\n",
       "      <td>88420.0</td>\n",
       "      <td>Canada</td>\n",
       "      <td>...</td>\n",
       "      <td>Tools</td>\n",
       "      <td>Excellent</td>\n",
       "      <td>Standard</td>\n",
       "      <td>PayPal</td>\n",
       "      <td>Processing</td>\n",
       "      <td>4.0</td>\n",
       "      <td>Utility knife</td>\n",
       "      <td>2023-05-11</td>\n",
       "      <td>2023-05-13</td>\n",
       "      <td>89705</td>\n",
       "    </tr>\n",
       "    <tr>\n",
       "      <th>4</th>\n",
       "      <td>4983775.0</td>\n",
       "      <td>27901.0</td>\n",
       "      <td>Debra Coleman</td>\n",
       "      <td>Charles30@gmail.com</td>\n",
       "      <td>9.098268e+09</td>\n",
       "      <td>5813 Lori Ports Suite 269</td>\n",
       "      <td>Bristol</td>\n",
       "      <td>England</td>\n",
       "      <td>48704.0</td>\n",
       "      <td>UK</td>\n",
       "      <td>...</td>\n",
       "      <td>Chocolate</td>\n",
       "      <td>Bad</td>\n",
       "      <td>Standard</td>\n",
       "      <td>Cash</td>\n",
       "      <td>Shipped</td>\n",
       "      <td>1.0</td>\n",
       "      <td>Chocolate cookies</td>\n",
       "      <td>2024-01-13</td>\n",
       "      <td>2024-01-14</td>\n",
       "      <td>88714</td>\n",
       "    </tr>\n",
       "  </tbody>\n",
       "</table>\n",
       "<p>5 rows × 33 columns</p>\n",
       "</div>"
      ],
      "text/plain": [
       "   Transaction_ID  Customer_ID                 Name                Email  \\\n",
       "0       8691788.0      37249.0  Michelle Harrington    Ebony39@gmail.com   \n",
       "1       2174773.0      69749.0          Kelsey Hill     Mark36@gmail.com   \n",
       "2       6679610.0      30192.0         Scott Jensen    Shane85@gmail.com   \n",
       "3       7232460.0      62101.0        Joseph Miller     Mary34@gmail.com   \n",
       "4       4983775.0      27901.0        Debra Coleman  Charles30@gmail.com   \n",
       "\n",
       "          Phone                      Address        City            State  \\\n",
       "0  1.414787e+09            3959 Amanda Burgs    Dortmund           Berlin   \n",
       "1  6.852900e+09           82072 Dawn Centers  Nottingham          England   \n",
       "2  8.362160e+09            4133 Young Canyon     Geelong  New South Wales   \n",
       "3  2.776752e+09  8148 Thomas Creek Suite 100    Edmonton          Ontario   \n",
       "4  9.098268e+09    5813 Lori Ports Suite 269     Bristol          England   \n",
       "\n",
       "   Zipcode    Country  ...  Product_Type   Feedback Shipping_Method  \\\n",
       "0  77985.0    Germany  ...        Shorts  Excellent        Same-Day   \n",
       "1  99071.0         UK  ...        Tablet  Excellent        Standard   \n",
       "2  75929.0  Australia  ...    Children's    Average        Same-Day   \n",
       "3  88420.0     Canada  ...         Tools  Excellent        Standard   \n",
       "4  48704.0         UK  ...     Chocolate        Bad        Standard   \n",
       "\n",
       "  Payment_Method Order_Status  Ratings           products   Ship Date  \\\n",
       "0     Debit Card      Shipped      5.0     Cycling shorts  2023-09-22   \n",
       "1    Credit Card   Processing      4.0         Lenovo Tab  2024-01-03   \n",
       "2    Credit Card   Processing      2.0   Sports equipment  2023-04-30   \n",
       "3         PayPal   Processing      4.0      Utility knife  2023-05-11   \n",
       "4           Cash      Shipped      1.0  Chocolate cookies  2024-01-13   \n",
       "\n",
       "   Delivery Date  Product ID  \n",
       "0     2023-09-24       69417  \n",
       "1     2024-01-04       24176  \n",
       "2     2023-05-03       48029  \n",
       "3     2023-05-13       89705  \n",
       "4     2024-01-14       88714  \n",
       "\n",
       "[5 rows x 33 columns]"
      ]
     },
     "execution_count": 36,
     "metadata": {},
     "output_type": "execute_result"
    }
   ],
   "source": [
    "B_retail_data=pd.read_csv(\"D:/RAHUL-SIR-MCA-PROJECT-Copy/Bronz_Data/Retail_data.csv\")\n",
    "B_retail_data.head(5)"
   ]
  },
  {
   "cell_type": "code",
   "execution_count": 37,
   "id": "f200b8fc",
   "metadata": {},
   "outputs": [
    {
     "data": {
      "text/html": [
       "<div>\n",
       "<style scoped>\n",
       "    .dataframe tbody tr th:only-of-type {\n",
       "        vertical-align: middle;\n",
       "    }\n",
       "\n",
       "    .dataframe tbody tr th {\n",
       "        vertical-align: top;\n",
       "    }\n",
       "\n",
       "    .dataframe thead th {\n",
       "        text-align: right;\n",
       "    }\n",
       "</style>\n",
       "<table border=\"1\" class=\"dataframe\">\n",
       "  <thead>\n",
       "    <tr style=\"text-align: right;\">\n",
       "      <th></th>\n",
       "      <th>Customer_ID</th>\n",
       "      <th>Name</th>\n",
       "      <th>Email</th>\n",
       "      <th>Phone</th>\n",
       "      <th>Address</th>\n",
       "      <th>City</th>\n",
       "      <th>State</th>\n",
       "      <th>Zipcode</th>\n",
       "      <th>Country</th>\n",
       "      <th>Age</th>\n",
       "      <th>Gender</th>\n",
       "      <th>Income</th>\n",
       "      <th>Customer_Segment</th>\n",
       "      <th>Feedback</th>\n",
       "      <th>Ratings</th>\n",
       "      <th>Transaction_ID</th>\n",
       "      <th>Product ID</th>\n",
       "    </tr>\n",
       "  </thead>\n",
       "  <tbody>\n",
       "    <tr>\n",
       "      <th>0</th>\n",
       "      <td>37249.0</td>\n",
       "      <td>Michelle Harrington</td>\n",
       "      <td>Ebony39@gmail.com</td>\n",
       "      <td>1.414787e+09</td>\n",
       "      <td>3959 Amanda Burgs</td>\n",
       "      <td>Dortmund</td>\n",
       "      <td>Berlin</td>\n",
       "      <td>77985.0</td>\n",
       "      <td>Germany</td>\n",
       "      <td>21.0</td>\n",
       "      <td>Male</td>\n",
       "      <td>Low</td>\n",
       "      <td>Regular</td>\n",
       "      <td>Excellent</td>\n",
       "      <td>5.0</td>\n",
       "      <td>8691788.0</td>\n",
       "      <td>69417</td>\n",
       "    </tr>\n",
       "    <tr>\n",
       "      <th>1</th>\n",
       "      <td>69749.0</td>\n",
       "      <td>Kelsey Hill</td>\n",
       "      <td>Mark36@gmail.com</td>\n",
       "      <td>6.852900e+09</td>\n",
       "      <td>82072 Dawn Centers</td>\n",
       "      <td>Nottingham</td>\n",
       "      <td>England</td>\n",
       "      <td>99071.0</td>\n",
       "      <td>UK</td>\n",
       "      <td>19.0</td>\n",
       "      <td>Female</td>\n",
       "      <td>Low</td>\n",
       "      <td>Premium</td>\n",
       "      <td>Excellent</td>\n",
       "      <td>4.0</td>\n",
       "      <td>2174773.0</td>\n",
       "      <td>24176</td>\n",
       "    </tr>\n",
       "    <tr>\n",
       "      <th>2</th>\n",
       "      <td>30192.0</td>\n",
       "      <td>Scott Jensen</td>\n",
       "      <td>Shane85@gmail.com</td>\n",
       "      <td>8.362160e+09</td>\n",
       "      <td>4133 Young Canyon</td>\n",
       "      <td>Geelong</td>\n",
       "      <td>New South Wales</td>\n",
       "      <td>75929.0</td>\n",
       "      <td>Australia</td>\n",
       "      <td>48.0</td>\n",
       "      <td>Male</td>\n",
       "      <td>Low</td>\n",
       "      <td>Regular</td>\n",
       "      <td>Average</td>\n",
       "      <td>2.0</td>\n",
       "      <td>6679610.0</td>\n",
       "      <td>48029</td>\n",
       "    </tr>\n",
       "    <tr>\n",
       "      <th>3</th>\n",
       "      <td>62101.0</td>\n",
       "      <td>Joseph Miller</td>\n",
       "      <td>Mary34@gmail.com</td>\n",
       "      <td>2.776752e+09</td>\n",
       "      <td>8148 Thomas Creek Suite 100</td>\n",
       "      <td>Edmonton</td>\n",
       "      <td>Ontario</td>\n",
       "      <td>88420.0</td>\n",
       "      <td>Canada</td>\n",
       "      <td>56.0</td>\n",
       "      <td>Male</td>\n",
       "      <td>High</td>\n",
       "      <td>Premium</td>\n",
       "      <td>Excellent</td>\n",
       "      <td>4.0</td>\n",
       "      <td>7232460.0</td>\n",
       "      <td>89705</td>\n",
       "    </tr>\n",
       "    <tr>\n",
       "      <th>4</th>\n",
       "      <td>27901.0</td>\n",
       "      <td>Debra Coleman</td>\n",
       "      <td>Charles30@gmail.com</td>\n",
       "      <td>9.098268e+09</td>\n",
       "      <td>5813 Lori Ports Suite 269</td>\n",
       "      <td>Bristol</td>\n",
       "      <td>England</td>\n",
       "      <td>48704.0</td>\n",
       "      <td>UK</td>\n",
       "      <td>22.0</td>\n",
       "      <td>Male</td>\n",
       "      <td>Low</td>\n",
       "      <td>Premium</td>\n",
       "      <td>Bad</td>\n",
       "      <td>1.0</td>\n",
       "      <td>4983775.0</td>\n",
       "      <td>88714</td>\n",
       "    </tr>\n",
       "  </tbody>\n",
       "</table>\n",
       "</div>"
      ],
      "text/plain": [
       "   Customer_ID                 Name                Email         Phone  \\\n",
       "0      37249.0  Michelle Harrington    Ebony39@gmail.com  1.414787e+09   \n",
       "1      69749.0          Kelsey Hill     Mark36@gmail.com  6.852900e+09   \n",
       "2      30192.0         Scott Jensen    Shane85@gmail.com  8.362160e+09   \n",
       "3      62101.0        Joseph Miller     Mary34@gmail.com  2.776752e+09   \n",
       "4      27901.0        Debra Coleman  Charles30@gmail.com  9.098268e+09   \n",
       "\n",
       "                       Address        City            State  Zipcode  \\\n",
       "0            3959 Amanda Burgs    Dortmund           Berlin  77985.0   \n",
       "1           82072 Dawn Centers  Nottingham          England  99071.0   \n",
       "2            4133 Young Canyon     Geelong  New South Wales  75929.0   \n",
       "3  8148 Thomas Creek Suite 100    Edmonton          Ontario  88420.0   \n",
       "4    5813 Lori Ports Suite 269     Bristol          England  48704.0   \n",
       "\n",
       "     Country   Age  Gender Income Customer_Segment   Feedback  Ratings  \\\n",
       "0    Germany  21.0    Male    Low          Regular  Excellent      5.0   \n",
       "1         UK  19.0  Female    Low          Premium  Excellent      4.0   \n",
       "2  Australia  48.0    Male    Low          Regular    Average      2.0   \n",
       "3     Canada  56.0    Male   High          Premium  Excellent      4.0   \n",
       "4         UK  22.0    Male    Low          Premium        Bad      1.0   \n",
       "\n",
       "   Transaction_ID  Product ID  \n",
       "0       8691788.0       69417  \n",
       "1       2174773.0       24176  \n",
       "2       6679610.0       48029  \n",
       "3       7232460.0       89705  \n",
       "4       4983775.0       88714  "
      ]
     },
     "execution_count": 37,
     "metadata": {},
     "output_type": "execute_result"
    }
   ],
   "source": [
    "B_customer=pd.read_csv(\"D:/RAHUL-SIR-MCA-PROJECT-Copy/Bronz_Data/customer.csv\")\n",
    "B_customer.head(5)"
   ]
  },
  {
   "cell_type": "code",
   "execution_count": 38,
   "id": "fcd0ac3d",
   "metadata": {},
   "outputs": [
    {
     "data": {
      "text/html": [
       "<div>\n",
       "<style scoped>\n",
       "    .dataframe tbody tr th:only-of-type {\n",
       "        vertical-align: middle;\n",
       "    }\n",
       "\n",
       "    .dataframe tbody tr th {\n",
       "        vertical-align: top;\n",
       "    }\n",
       "\n",
       "    .dataframe thead th {\n",
       "        text-align: right;\n",
       "    }\n",
       "</style>\n",
       "<table border=\"1\" class=\"dataframe\">\n",
       "  <thead>\n",
       "    <tr style=\"text-align: right;\">\n",
       "      <th></th>\n",
       "      <th>Transaction_ID</th>\n",
       "      <th>Date</th>\n",
       "      <th>Ship Date</th>\n",
       "      <th>Delivery Date</th>\n",
       "      <th>Year</th>\n",
       "      <th>Month</th>\n",
       "      <th>Time</th>\n",
       "      <th>Total_Purchases</th>\n",
       "      <th>Amount</th>\n",
       "      <th>Total_Amount</th>\n",
       "      <th>Shipping_Method</th>\n",
       "      <th>Payment_Method</th>\n",
       "      <th>Order_Status</th>\n",
       "      <th>Product ID</th>\n",
       "      <th>Customer_ID</th>\n",
       "    </tr>\n",
       "  </thead>\n",
       "  <tbody>\n",
       "    <tr>\n",
       "      <th>0</th>\n",
       "      <td>8691788.0</td>\n",
       "      <td>2023-09-18</td>\n",
       "      <td>2023-09-22</td>\n",
       "      <td>2023-09-24</td>\n",
       "      <td>2023.0</td>\n",
       "      <td>September</td>\n",
       "      <td>22:03:55</td>\n",
       "      <td>3.0</td>\n",
       "      <td>108.028757</td>\n",
       "      <td>324.086270</td>\n",
       "      <td>Same-Day</td>\n",
       "      <td>Debit Card</td>\n",
       "      <td>Shipped</td>\n",
       "      <td>69417</td>\n",
       "      <td>37249.0</td>\n",
       "    </tr>\n",
       "    <tr>\n",
       "      <th>1</th>\n",
       "      <td>2174773.0</td>\n",
       "      <td>2023-12-31</td>\n",
       "      <td>2024-01-03</td>\n",
       "      <td>2024-01-04</td>\n",
       "      <td>2023.0</td>\n",
       "      <td>December</td>\n",
       "      <td>8:42:04</td>\n",
       "      <td>2.0</td>\n",
       "      <td>403.353907</td>\n",
       "      <td>806.707815</td>\n",
       "      <td>Standard</td>\n",
       "      <td>Credit Card</td>\n",
       "      <td>Processing</td>\n",
       "      <td>24176</td>\n",
       "      <td>69749.0</td>\n",
       "    </tr>\n",
       "    <tr>\n",
       "      <th>2</th>\n",
       "      <td>6679610.0</td>\n",
       "      <td>2023-04-26</td>\n",
       "      <td>2023-04-30</td>\n",
       "      <td>2023-05-03</td>\n",
       "      <td>2023.0</td>\n",
       "      <td>April</td>\n",
       "      <td>4:06:29</td>\n",
       "      <td>3.0</td>\n",
       "      <td>354.477600</td>\n",
       "      <td>1063.432799</td>\n",
       "      <td>Same-Day</td>\n",
       "      <td>Credit Card</td>\n",
       "      <td>Processing</td>\n",
       "      <td>48029</td>\n",
       "      <td>30192.0</td>\n",
       "    </tr>\n",
       "    <tr>\n",
       "      <th>3</th>\n",
       "      <td>7232460.0</td>\n",
       "      <td>2023-05-08</td>\n",
       "      <td>2023-05-11</td>\n",
       "      <td>2023-05-13</td>\n",
       "      <td>2023.0</td>\n",
       "      <td>May</td>\n",
       "      <td>14:55:17</td>\n",
       "      <td>7.0</td>\n",
       "      <td>352.407717</td>\n",
       "      <td>2466.854021</td>\n",
       "      <td>Standard</td>\n",
       "      <td>PayPal</td>\n",
       "      <td>Processing</td>\n",
       "      <td>89705</td>\n",
       "      <td>62101.0</td>\n",
       "    </tr>\n",
       "    <tr>\n",
       "      <th>4</th>\n",
       "      <td>4983775.0</td>\n",
       "      <td>2024-01-10</td>\n",
       "      <td>2024-01-13</td>\n",
       "      <td>2024-01-14</td>\n",
       "      <td>2024.0</td>\n",
       "      <td>January</td>\n",
       "      <td>16:54:07</td>\n",
       "      <td>2.0</td>\n",
       "      <td>124.276524</td>\n",
       "      <td>248.553049</td>\n",
       "      <td>Standard</td>\n",
       "      <td>Cash</td>\n",
       "      <td>Shipped</td>\n",
       "      <td>88714</td>\n",
       "      <td>27901.0</td>\n",
       "    </tr>\n",
       "  </tbody>\n",
       "</table>\n",
       "</div>"
      ],
      "text/plain": [
       "   Transaction_ID        Date   Ship Date Delivery Date    Year      Month  \\\n",
       "0       8691788.0  2023-09-18  2023-09-22    2023-09-24  2023.0  September   \n",
       "1       2174773.0  2023-12-31  2024-01-03    2024-01-04  2023.0   December   \n",
       "2       6679610.0  2023-04-26  2023-04-30    2023-05-03  2023.0      April   \n",
       "3       7232460.0  2023-05-08  2023-05-11    2023-05-13  2023.0        May   \n",
       "4       4983775.0  2024-01-10  2024-01-13    2024-01-14  2024.0    January   \n",
       "\n",
       "       Time  Total_Purchases      Amount  Total_Amount Shipping_Method  \\\n",
       "0  22:03:55              3.0  108.028757    324.086270        Same-Day   \n",
       "1   8:42:04              2.0  403.353907    806.707815        Standard   \n",
       "2   4:06:29              3.0  354.477600   1063.432799        Same-Day   \n",
       "3  14:55:17              7.0  352.407717   2466.854021        Standard   \n",
       "4  16:54:07              2.0  124.276524    248.553049        Standard   \n",
       "\n",
       "  Payment_Method Order_Status  Product ID  Customer_ID  \n",
       "0     Debit Card      Shipped       69417      37249.0  \n",
       "1    Credit Card   Processing       24176      69749.0  \n",
       "2    Credit Card   Processing       48029      30192.0  \n",
       "3         PayPal   Processing       89705      62101.0  \n",
       "4           Cash      Shipped       88714      27901.0  "
      ]
     },
     "execution_count": 38,
     "metadata": {},
     "output_type": "execute_result"
    }
   ],
   "source": [
    "B_order=pd.read_csv(\"D:/RAHUL-SIR-MCA-PROJECT-Copy/Bronz_Data/order.csv\")\n",
    "B_order.head(5)"
   ]
  },
  {
   "cell_type": "code",
   "execution_count": 39,
   "id": "9e50af84",
   "metadata": {},
   "outputs": [
    {
     "data": {
      "text/html": [
       "<div>\n",
       "<style scoped>\n",
       "    .dataframe tbody tr th:only-of-type {\n",
       "        vertical-align: middle;\n",
       "    }\n",
       "\n",
       "    .dataframe tbody tr th {\n",
       "        vertical-align: top;\n",
       "    }\n",
       "\n",
       "    .dataframe thead th {\n",
       "        text-align: right;\n",
       "    }\n",
       "</style>\n",
       "<table border=\"1\" class=\"dataframe\">\n",
       "  <thead>\n",
       "    <tr style=\"text-align: right;\">\n",
       "      <th></th>\n",
       "      <th>Product ID</th>\n",
       "      <th>products</th>\n",
       "      <th>Product_Category</th>\n",
       "      <th>Product_Brand</th>\n",
       "      <th>Product_Type</th>\n",
       "      <th>Customer_ID</th>\n",
       "      <th>Transaction_ID</th>\n",
       "    </tr>\n",
       "  </thead>\n",
       "  <tbody>\n",
       "    <tr>\n",
       "      <th>0</th>\n",
       "      <td>69417</td>\n",
       "      <td>Cycling shorts</td>\n",
       "      <td>Clothing</td>\n",
       "      <td>Nike</td>\n",
       "      <td>Shorts</td>\n",
       "      <td>37249.0</td>\n",
       "      <td>8691788.0</td>\n",
       "    </tr>\n",
       "    <tr>\n",
       "      <th>1</th>\n",
       "      <td>24176</td>\n",
       "      <td>Lenovo Tab</td>\n",
       "      <td>Electronics</td>\n",
       "      <td>Samsung</td>\n",
       "      <td>Tablet</td>\n",
       "      <td>69749.0</td>\n",
       "      <td>2174773.0</td>\n",
       "    </tr>\n",
       "    <tr>\n",
       "      <th>2</th>\n",
       "      <td>48029</td>\n",
       "      <td>Sports equipment</td>\n",
       "      <td>Books</td>\n",
       "      <td>Penguin Books</td>\n",
       "      <td>Children's</td>\n",
       "      <td>30192.0</td>\n",
       "      <td>6679610.0</td>\n",
       "    </tr>\n",
       "    <tr>\n",
       "      <th>3</th>\n",
       "      <td>89705</td>\n",
       "      <td>Utility knife</td>\n",
       "      <td>Home Decor</td>\n",
       "      <td>Home Depot</td>\n",
       "      <td>Tools</td>\n",
       "      <td>62101.0</td>\n",
       "      <td>7232460.0</td>\n",
       "    </tr>\n",
       "    <tr>\n",
       "      <th>4</th>\n",
       "      <td>88714</td>\n",
       "      <td>Chocolate cookies</td>\n",
       "      <td>Grocery</td>\n",
       "      <td>Nestle</td>\n",
       "      <td>Chocolate</td>\n",
       "      <td>27901.0</td>\n",
       "      <td>4983775.0</td>\n",
       "    </tr>\n",
       "  </tbody>\n",
       "</table>\n",
       "</div>"
      ],
      "text/plain": [
       "   Product ID           products Product_Category  Product_Brand Product_Type  \\\n",
       "0       69417     Cycling shorts         Clothing           Nike       Shorts   \n",
       "1       24176         Lenovo Tab      Electronics        Samsung       Tablet   \n",
       "2       48029   Sports equipment            Books  Penguin Books   Children's   \n",
       "3       89705      Utility knife       Home Decor     Home Depot        Tools   \n",
       "4       88714  Chocolate cookies          Grocery         Nestle    Chocolate   \n",
       "\n",
       "   Customer_ID  Transaction_ID  \n",
       "0      37249.0       8691788.0  \n",
       "1      69749.0       2174773.0  \n",
       "2      30192.0       6679610.0  \n",
       "3      62101.0       7232460.0  \n",
       "4      27901.0       4983775.0  "
      ]
     },
     "execution_count": 39,
     "metadata": {},
     "output_type": "execute_result"
    }
   ],
   "source": [
    "B_product=pd.read_csv(\"D:/RAHUL-SIR-MCA-PROJECT-Copy/Bronz_Data/product.csv\")\n",
    "B_product.head(5)"
   ]
  },
  {
   "cell_type": "markdown",
   "id": "a29715e8",
   "metadata": {},
   "source": [
    "## 2.2 Basic Data Infomation"
   ]
  },
  {
   "cell_type": "code",
   "execution_count": 43,
   "id": "c445ec4e",
   "metadata": {},
   "outputs": [
    {
     "name": "stdout",
     "output_type": "stream",
     "text": [
      "Retail data Infomation\n",
      "\n",
      "\n",
      "<class 'pandas.core.frame.DataFrame'>\n",
      "RangeIndex: 371741 entries, 0 to 371740\n",
      "Data columns (total 33 columns):\n",
      " #   Column            Non-Null Count   Dtype  \n",
      "---  ------            --------------   -----  \n",
      " 0   Transaction_ID    371316 non-null  float64\n",
      " 1   Customer_ID       371359 non-null  float64\n",
      " 2   Name              371271 non-null  object \n",
      " 3   Email             371326 non-null  object \n",
      " 4   Phone             371294 non-null  float64\n",
      " 5   Address           371364 non-null  object \n",
      " 6   City              371444 non-null  object \n",
      " 7   State             371395 non-null  object \n",
      " 8   Zipcode           371313 non-null  float64\n",
      " 9   Country           371410 non-null  object \n",
      " 10  Age               371531 non-null  float64\n",
      " 11  Gender            371371 non-null  object \n",
      " 12  Income            371374 non-null  object \n",
      " 13  Customer_Segment  371468 non-null  object \n",
      " 14  Date              371294 non-null  object \n",
      " 15  Year              371391 non-null  float64\n",
      " 16  Month             371397 non-null  object \n",
      " 17  Time              371300 non-null  object \n",
      " 18  Total_Purchases   371307 non-null  float64\n",
      " 19  Amount            371315 non-null  float64\n",
      " 20  Total_Amount      371316 non-null  float64\n",
      " 21  Product_Category  371403 non-null  object \n",
      " 22  Product_Brand     371403 non-null  object \n",
      " 23  Product_Type      371741 non-null  object \n",
      " 24  Feedback          371510 non-null  object \n",
      " 25  Shipping_Method   371331 non-null  object \n",
      " 26  Payment_Method    371370 non-null  object \n",
      " 27  Order_Status      371455 non-null  object \n",
      " 28  Ratings           371510 non-null  float64\n",
      " 29  products          371741 non-null  object \n",
      " 30  Ship Date         371021 non-null  object \n",
      " 31  Delivery Date     371021 non-null  object \n",
      " 32  Product ID        371741 non-null  int64  \n",
      "dtypes: float64(10), int64(1), object(22)\n",
      "memory usage: 93.6+ MB\n",
      "\n",
      "\n",
      "Customer Infomation\n",
      "\n",
      "\n",
      "<class 'pandas.core.frame.DataFrame'>\n",
      "RangeIndex: 371738 entries, 0 to 371737\n",
      "Data columns (total 17 columns):\n",
      " #   Column            Non-Null Count   Dtype  \n",
      "---  ------            --------------   -----  \n",
      " 0   Customer_ID       371356 non-null  float64\n",
      " 1   Name              371268 non-null  object \n",
      " 2   Email             371323 non-null  object \n",
      " 3   Phone             371291 non-null  float64\n",
      " 4   Address           371361 non-null  object \n",
      " 5   City              371441 non-null  object \n",
      " 6   State             371392 non-null  object \n",
      " 7   Zipcode           371310 non-null  float64\n",
      " 8   Country           371407 non-null  object \n",
      " 9   Age               371528 non-null  float64\n",
      " 10  Gender            371368 non-null  object \n",
      " 11  Income            371371 non-null  object \n",
      " 12  Customer_Segment  371465 non-null  object \n",
      " 13  Feedback          371507 non-null  object \n",
      " 14  Ratings           371507 non-null  float64\n",
      " 15  Transaction_ID    371313 non-null  float64\n",
      " 16  Product ID        371738 non-null  int64  \n",
      "dtypes: float64(6), int64(1), object(10)\n",
      "memory usage: 48.2+ MB\n",
      "\n",
      "\n",
      "Order Information\n",
      "\n",
      "\n",
      "<class 'pandas.core.frame.DataFrame'>\n",
      "RangeIndex: 371741 entries, 0 to 371740\n",
      "Data columns (total 15 columns):\n",
      " #   Column           Non-Null Count   Dtype  \n",
      "---  ------           --------------   -----  \n",
      " 0   Transaction_ID   371316 non-null  float64\n",
      " 1   Date             371294 non-null  object \n",
      " 2   Ship Date        371021 non-null  object \n",
      " 3   Delivery Date    371021 non-null  object \n",
      " 4   Year             371391 non-null  float64\n",
      " 5   Month            371397 non-null  object \n",
      " 6   Time             371300 non-null  object \n",
      " 7   Total_Purchases  371307 non-null  float64\n",
      " 8   Amount           371315 non-null  float64\n",
      " 9   Total_Amount     371316 non-null  float64\n",
      " 10  Shipping_Method  371331 non-null  object \n",
      " 11  Payment_Method   371370 non-null  object \n",
      " 12  Order_Status     371455 non-null  object \n",
      " 13  Product ID       371741 non-null  int64  \n",
      " 14  Customer_ID      371359 non-null  float64\n",
      "dtypes: float64(6), int64(1), object(8)\n",
      "memory usage: 42.5+ MB\n",
      "\n",
      "\n",
      "Product Information\n",
      "\n",
      "\n",
      "<class 'pandas.core.frame.DataFrame'>\n",
      "RangeIndex: 371738 entries, 0 to 371737\n",
      "Data columns (total 7 columns):\n",
      " #   Column            Non-Null Count   Dtype  \n",
      "---  ------            --------------   -----  \n",
      " 0   Product ID        371738 non-null  int64  \n",
      " 1   products          371738 non-null  object \n",
      " 2   Product_Category  371400 non-null  object \n",
      " 3   Product_Brand     371400 non-null  object \n",
      " 4   Product_Type      371738 non-null  object \n",
      " 5   Customer_ID       371356 non-null  float64\n",
      " 6   Transaction_ID    371313 non-null  float64\n",
      "dtypes: float64(2), int64(1), object(4)\n",
      "memory usage: 19.9+ MB\n"
     ]
    }
   ],
   "source": [
    "print(\"Retail data Infomation\")\n",
    "print(\"\\n\")\n",
    "B_retail_data.info()\n",
    "print(\"\\n\")\n",
    "print(\"Customer Infomation\")\n",
    "print(\"\\n\")\n",
    "B_customer.info()\n",
    "print(\"\\n\")\n",
    "print(\"Order Information\")\n",
    "print(\"\\n\")\n",
    "B_order.info()\n",
    "print(\"\\n\")\n",
    "print(\"Product Information\")\n",
    "print(\"\\n\")\n",
    "B_product.info()"
   ]
  },
  {
   "cell_type": "markdown",
   "id": "cafa4ae9",
   "metadata": {},
   "source": [
    "## 2.3 Handling Missing Data"
   ]
  },
  {
   "cell_type": "markdown",
   "id": "14b5c0a0",
   "metadata": {},
   "source": [
    "### B_Retail_data"
   ]
  },
  {
   "cell_type": "code",
   "execution_count": 45,
   "id": "ecbe2aad",
   "metadata": {},
   "outputs": [
    {
     "data": {
      "text/plain": [
       "Transaction_ID      425\n",
       "Customer_ID         382\n",
       "Name                470\n",
       "Email               415\n",
       "Phone               447\n",
       "Address             377\n",
       "City                297\n",
       "State               346\n",
       "Zipcode             428\n",
       "Country             331\n",
       "Age                 210\n",
       "Gender              370\n",
       "Income              367\n",
       "Customer_Segment    273\n",
       "Date                447\n",
       "Year                350\n",
       "Month               344\n",
       "Time                441\n",
       "Total_Purchases     434\n",
       "Amount              426\n",
       "Total_Amount        425\n",
       "Product_Category    338\n",
       "Product_Brand       338\n",
       "Product_Type          0\n",
       "Feedback            231\n",
       "Shipping_Method     410\n",
       "Payment_Method      371\n",
       "Order_Status        286\n",
       "Ratings             231\n",
       "products              0\n",
       "Ship Date           720\n",
       "Delivery Date       720\n",
       "Product ID            0\n",
       "dtype: int64"
      ]
     },
     "execution_count": 45,
     "metadata": {},
     "output_type": "execute_result"
    }
   ],
   "source": [
    "B_retail_data.isnull().sum()"
   ]
  },
  {
   "cell_type": "code",
   "execution_count": 46,
   "id": "7f43437f",
   "metadata": {},
   "outputs": [],
   "source": [
    "B_retail_data=B_retail_data.dropna()"
   ]
  },
  {
   "cell_type": "code",
   "execution_count": 47,
   "id": "656da50f",
   "metadata": {},
   "outputs": [
    {
     "data": {
      "text/plain": [
       "Transaction_ID      0\n",
       "Customer_ID         0\n",
       "Name                0\n",
       "Email               0\n",
       "Phone               0\n",
       "Address             0\n",
       "City                0\n",
       "State               0\n",
       "Zipcode             0\n",
       "Country             0\n",
       "Age                 0\n",
       "Gender              0\n",
       "Income              0\n",
       "Customer_Segment    0\n",
       "Date                0\n",
       "Year                0\n",
       "Month               0\n",
       "Time                0\n",
       "Total_Purchases     0\n",
       "Amount              0\n",
       "Total_Amount        0\n",
       "Product_Category    0\n",
       "Product_Brand       0\n",
       "Product_Type        0\n",
       "Feedback            0\n",
       "Shipping_Method     0\n",
       "Payment_Method      0\n",
       "Order_Status        0\n",
       "Ratings             0\n",
       "products            0\n",
       "Ship Date           0\n",
       "Delivery Date       0\n",
       "Product ID          0\n",
       "dtype: int64"
      ]
     },
     "execution_count": 47,
     "metadata": {},
     "output_type": "execute_result"
    }
   ],
   "source": [
    "B_retail_data.isnull().sum()"
   ]
  },
  {
   "cell_type": "markdown",
   "id": "49cb377d",
   "metadata": {},
   "source": [
    "### B_Customer "
   ]
  },
  {
   "cell_type": "code",
   "execution_count": 48,
   "id": "f239d95f",
   "metadata": {},
   "outputs": [
    {
     "data": {
      "text/plain": [
       "Customer_ID         382\n",
       "Name                470\n",
       "Email               415\n",
       "Phone               447\n",
       "Address             377\n",
       "City                297\n",
       "State               346\n",
       "Zipcode             428\n",
       "Country             331\n",
       "Age                 210\n",
       "Gender              370\n",
       "Income              367\n",
       "Customer_Segment    273\n",
       "Feedback            231\n",
       "Ratings             231\n",
       "Transaction_ID      425\n",
       "Product ID            0\n",
       "dtype: int64"
      ]
     },
     "execution_count": 48,
     "metadata": {},
     "output_type": "execute_result"
    }
   ],
   "source": [
    "B_customer.isnull().sum()"
   ]
  },
  {
   "cell_type": "code",
   "execution_count": 49,
   "id": "aefbb050",
   "metadata": {},
   "outputs": [],
   "source": [
    "B_customer=B_customer.dropna()"
   ]
  },
  {
   "cell_type": "code",
   "execution_count": 50,
   "id": "0ad62f7e",
   "metadata": {},
   "outputs": [
    {
     "data": {
      "text/plain": [
       "Customer_ID         0\n",
       "Name                0\n",
       "Email               0\n",
       "Phone               0\n",
       "Address             0\n",
       "City                0\n",
       "State               0\n",
       "Zipcode             0\n",
       "Country             0\n",
       "Age                 0\n",
       "Gender              0\n",
       "Income              0\n",
       "Customer_Segment    0\n",
       "Feedback            0\n",
       "Ratings             0\n",
       "Transaction_ID      0\n",
       "Product ID          0\n",
       "dtype: int64"
      ]
     },
     "execution_count": 50,
     "metadata": {},
     "output_type": "execute_result"
    }
   ],
   "source": [
    "B_customer.isnull().sum()"
   ]
  },
  {
   "cell_type": "markdown",
   "id": "0d192ed0",
   "metadata": {},
   "source": [
    "### B_Order"
   ]
  },
  {
   "cell_type": "code",
   "execution_count": 51,
   "id": "d7edfc27",
   "metadata": {},
   "outputs": [
    {
     "data": {
      "text/plain": [
       "Transaction_ID     425\n",
       "Date               447\n",
       "Ship Date          720\n",
       "Delivery Date      720\n",
       "Year               350\n",
       "Month              344\n",
       "Time               441\n",
       "Total_Purchases    434\n",
       "Amount             426\n",
       "Total_Amount       425\n",
       "Shipping_Method    410\n",
       "Payment_Method     371\n",
       "Order_Status       286\n",
       "Product ID           0\n",
       "Customer_ID        382\n",
       "dtype: int64"
      ]
     },
     "execution_count": 51,
     "metadata": {},
     "output_type": "execute_result"
    }
   ],
   "source": [
    "B_order.isnull().sum()"
   ]
  },
  {
   "cell_type": "code",
   "execution_count": 52,
   "id": "ef9bc208",
   "metadata": {},
   "outputs": [],
   "source": [
    "B_order=B_order.dropna()"
   ]
  },
  {
   "cell_type": "code",
   "execution_count": 53,
   "id": "17545081",
   "metadata": {},
   "outputs": [
    {
     "data": {
      "text/plain": [
       "Transaction_ID     0\n",
       "Date               0\n",
       "Ship Date          0\n",
       "Delivery Date      0\n",
       "Year               0\n",
       "Month              0\n",
       "Time               0\n",
       "Total_Purchases    0\n",
       "Amount             0\n",
       "Total_Amount       0\n",
       "Shipping_Method    0\n",
       "Payment_Method     0\n",
       "Order_Status       0\n",
       "Product ID         0\n",
       "Customer_ID        0\n",
       "dtype: int64"
      ]
     },
     "execution_count": 53,
     "metadata": {},
     "output_type": "execute_result"
    }
   ],
   "source": [
    "B_order.isnull().sum()"
   ]
  },
  {
   "cell_type": "markdown",
   "id": "c916d11c",
   "metadata": {},
   "source": [
    "### B_product"
   ]
  },
  {
   "cell_type": "code",
   "execution_count": 54,
   "id": "f5547382",
   "metadata": {},
   "outputs": [
    {
     "data": {
      "text/plain": [
       "Product ID            0\n",
       "products              0\n",
       "Product_Category    338\n",
       "Product_Brand       338\n",
       "Product_Type          0\n",
       "Customer_ID         382\n",
       "Transaction_ID      425\n",
       "dtype: int64"
      ]
     },
     "execution_count": 54,
     "metadata": {},
     "output_type": "execute_result"
    }
   ],
   "source": [
    "B_product.isnull().sum()"
   ]
  },
  {
   "cell_type": "code",
   "execution_count": 55,
   "id": "7eb871e7",
   "metadata": {},
   "outputs": [],
   "source": [
    "B_product=B_product.dropna()"
   ]
  },
  {
   "cell_type": "code",
   "execution_count": 56,
   "id": "1d326841",
   "metadata": {},
   "outputs": [
    {
     "data": {
      "text/plain": [
       "Product ID          0\n",
       "products            0\n",
       "Product_Category    0\n",
       "Product_Brand       0\n",
       "Product_Type        0\n",
       "Customer_ID         0\n",
       "Transaction_ID      0\n",
       "dtype: int64"
      ]
     },
     "execution_count": 56,
     "metadata": {},
     "output_type": "execute_result"
    }
   ],
   "source": [
    "B_product.isnull().sum()"
   ]
  },
  {
   "cell_type": "markdown",
   "id": "3bd30021",
   "metadata": {},
   "source": [
    "## 2.4 Check Duplicates"
   ]
  },
  {
   "cell_type": "code",
   "execution_count": 58,
   "id": "2b106846",
   "metadata": {},
   "outputs": [
    {
     "data": {
      "text/plain": [
       "0"
      ]
     },
     "execution_count": 58,
     "metadata": {},
     "output_type": "execute_result"
    }
   ],
   "source": [
    "B_retail_data.duplicated().sum()"
   ]
  },
  {
   "cell_type": "code",
   "execution_count": 59,
   "id": "331ec5b0",
   "metadata": {},
   "outputs": [
    {
     "data": {
      "text/plain": [
       "0"
      ]
     },
     "execution_count": 59,
     "metadata": {},
     "output_type": "execute_result"
    }
   ],
   "source": [
    "B_customer.duplicated().sum()"
   ]
  },
  {
   "cell_type": "code",
   "execution_count": 60,
   "id": "e327af5f",
   "metadata": {},
   "outputs": [
    {
     "data": {
      "text/plain": [
       "0"
      ]
     },
     "execution_count": 60,
     "metadata": {},
     "output_type": "execute_result"
    }
   ],
   "source": [
    "B_order.duplicated().sum()"
   ]
  },
  {
   "cell_type": "code",
   "execution_count": 61,
   "id": "f0e6d706",
   "metadata": {},
   "outputs": [
    {
     "data": {
      "text/plain": [
       "0"
      ]
     },
     "execution_count": 61,
     "metadata": {},
     "output_type": "execute_result"
    }
   ],
   "source": [
    "B_product.duplicated().sum()"
   ]
  },
  {
   "cell_type": "markdown",
   "id": "9345e128",
   "metadata": {},
   "source": [
    "## 2.5 Data Preprocessing"
   ]
  },
  {
   "cell_type": "markdown",
   "id": "636d6bce",
   "metadata": {},
   "source": [
    "### B_Retail_data - Change Datatype"
   ]
  },
  {
   "cell_type": "code",
   "execution_count": 66,
   "id": "a8c5c0fa",
   "metadata": {},
   "outputs": [],
   "source": [
    "cols = ['Transaction_ID', 'Customer_ID', 'Zipcode','Age','Year','Product ID']  # Specify column names\n",
    "B_retail_data[cols] = B_retail_data[cols].apply(lambda x: x.astype(int))"
   ]
  },
  {
   "cell_type": "code",
   "execution_count": 67,
   "id": "1c722095",
   "metadata": {},
   "outputs": [
    {
     "data": {
      "text/plain": [
       "Transaction_ID    int32\n",
       "Customer_ID       int32\n",
       "Zipcode           int32\n",
       "Age               int32\n",
       "Year              int32\n",
       "Product ID        int32\n",
       "dtype: object"
      ]
     },
     "execution_count": 67,
     "metadata": {},
     "output_type": "execute_result"
    }
   ],
   "source": [
    "B_retail_data[['Transaction_ID', 'Customer_ID', 'Zipcode','Age','Year','Product ID']].dtypes"
   ]
  },
  {
   "cell_type": "code",
   "execution_count": 68,
   "id": "e3fe5213",
   "metadata": {},
   "outputs": [
    {
     "data": {
      "text/html": [
       "<div>\n",
       "<style scoped>\n",
       "    .dataframe tbody tr th:only-of-type {\n",
       "        vertical-align: middle;\n",
       "    }\n",
       "\n",
       "    .dataframe tbody tr th {\n",
       "        vertical-align: top;\n",
       "    }\n",
       "\n",
       "    .dataframe thead th {\n",
       "        text-align: right;\n",
       "    }\n",
       "</style>\n",
       "<table border=\"1\" class=\"dataframe\">\n",
       "  <thead>\n",
       "    <tr style=\"text-align: right;\">\n",
       "      <th></th>\n",
       "      <th>Transaction_ID</th>\n",
       "      <th>Customer_ID</th>\n",
       "      <th>Name</th>\n",
       "      <th>Email</th>\n",
       "      <th>Phone</th>\n",
       "      <th>Address</th>\n",
       "      <th>City</th>\n",
       "      <th>State</th>\n",
       "      <th>Zipcode</th>\n",
       "      <th>Country</th>\n",
       "      <th>...</th>\n",
       "      <th>Product_Type</th>\n",
       "      <th>Feedback</th>\n",
       "      <th>Shipping_Method</th>\n",
       "      <th>Payment_Method</th>\n",
       "      <th>Order_Status</th>\n",
       "      <th>Ratings</th>\n",
       "      <th>products</th>\n",
       "      <th>Ship Date</th>\n",
       "      <th>Delivery Date</th>\n",
       "      <th>Product ID</th>\n",
       "    </tr>\n",
       "  </thead>\n",
       "  <tbody>\n",
       "    <tr>\n",
       "      <th>0</th>\n",
       "      <td>8691788</td>\n",
       "      <td>37249</td>\n",
       "      <td>Michelle Harrington</td>\n",
       "      <td>Ebony39@gmail.com</td>\n",
       "      <td>1.414787e+09</td>\n",
       "      <td>3959 Amanda Burgs</td>\n",
       "      <td>Dortmund</td>\n",
       "      <td>Berlin</td>\n",
       "      <td>77985</td>\n",
       "      <td>Germany</td>\n",
       "      <td>...</td>\n",
       "      <td>Shorts</td>\n",
       "      <td>Excellent</td>\n",
       "      <td>Same-Day</td>\n",
       "      <td>Debit Card</td>\n",
       "      <td>Shipped</td>\n",
       "      <td>5.0</td>\n",
       "      <td>Cycling shorts</td>\n",
       "      <td>2023-09-22</td>\n",
       "      <td>2023-09-24</td>\n",
       "      <td>69417</td>\n",
       "    </tr>\n",
       "    <tr>\n",
       "      <th>1</th>\n",
       "      <td>2174773</td>\n",
       "      <td>69749</td>\n",
       "      <td>Kelsey Hill</td>\n",
       "      <td>Mark36@gmail.com</td>\n",
       "      <td>6.852900e+09</td>\n",
       "      <td>82072 Dawn Centers</td>\n",
       "      <td>Nottingham</td>\n",
       "      <td>England</td>\n",
       "      <td>99071</td>\n",
       "      <td>UK</td>\n",
       "      <td>...</td>\n",
       "      <td>Tablet</td>\n",
       "      <td>Excellent</td>\n",
       "      <td>Standard</td>\n",
       "      <td>Credit Card</td>\n",
       "      <td>Processing</td>\n",
       "      <td>4.0</td>\n",
       "      <td>Lenovo Tab</td>\n",
       "      <td>2024-01-03</td>\n",
       "      <td>2024-01-04</td>\n",
       "      <td>24176</td>\n",
       "    </tr>\n",
       "    <tr>\n",
       "      <th>2</th>\n",
       "      <td>6679610</td>\n",
       "      <td>30192</td>\n",
       "      <td>Scott Jensen</td>\n",
       "      <td>Shane85@gmail.com</td>\n",
       "      <td>8.362160e+09</td>\n",
       "      <td>4133 Young Canyon</td>\n",
       "      <td>Geelong</td>\n",
       "      <td>New South Wales</td>\n",
       "      <td>75929</td>\n",
       "      <td>Australia</td>\n",
       "      <td>...</td>\n",
       "      <td>Children's</td>\n",
       "      <td>Average</td>\n",
       "      <td>Same-Day</td>\n",
       "      <td>Credit Card</td>\n",
       "      <td>Processing</td>\n",
       "      <td>2.0</td>\n",
       "      <td>Sports equipment</td>\n",
       "      <td>2023-04-30</td>\n",
       "      <td>2023-05-03</td>\n",
       "      <td>48029</td>\n",
       "    </tr>\n",
       "  </tbody>\n",
       "</table>\n",
       "<p>3 rows × 33 columns</p>\n",
       "</div>"
      ],
      "text/plain": [
       "   Transaction_ID  Customer_ID                 Name              Email  \\\n",
       "0         8691788        37249  Michelle Harrington  Ebony39@gmail.com   \n",
       "1         2174773        69749          Kelsey Hill   Mark36@gmail.com   \n",
       "2         6679610        30192         Scott Jensen  Shane85@gmail.com   \n",
       "\n",
       "          Phone             Address        City            State  Zipcode  \\\n",
       "0  1.414787e+09   3959 Amanda Burgs    Dortmund           Berlin    77985   \n",
       "1  6.852900e+09  82072 Dawn Centers  Nottingham          England    99071   \n",
       "2  8.362160e+09   4133 Young Canyon     Geelong  New South Wales    75929   \n",
       "\n",
       "     Country  ...  Product_Type   Feedback Shipping_Method Payment_Method  \\\n",
       "0    Germany  ...        Shorts  Excellent        Same-Day     Debit Card   \n",
       "1         UK  ...        Tablet  Excellent        Standard    Credit Card   \n",
       "2  Australia  ...    Children's    Average        Same-Day    Credit Card   \n",
       "\n",
       "  Order_Status  Ratings          products   Ship Date  Delivery Date  \\\n",
       "0      Shipped      5.0    Cycling shorts  2023-09-22     2023-09-24   \n",
       "1   Processing      4.0        Lenovo Tab  2024-01-03     2024-01-04   \n",
       "2   Processing      2.0  Sports equipment  2023-04-30     2023-05-03   \n",
       "\n",
       "   Product ID  \n",
       "0       69417  \n",
       "1       24176  \n",
       "2       48029  \n",
       "\n",
       "[3 rows x 33 columns]"
      ]
     },
     "execution_count": 68,
     "metadata": {},
     "output_type": "execute_result"
    }
   ],
   "source": [
    "B_retail_data.head(3)"
   ]
  },
  {
   "cell_type": "markdown",
   "id": "1709b810",
   "metadata": {},
   "source": [
    "### B_customer - Generate Birth Year column based on the Age column "
   ]
  },
  {
   "cell_type": "code",
   "execution_count": 57,
   "id": "37a6d809",
   "metadata": {},
   "outputs": [
    {
     "name": "stdout",
     "output_type": "stream",
     "text": [
      "    Age  Birth_Year\n",
      "0  21.0      2004.0\n",
      "1  19.0      2006.0\n",
      "2  48.0      1977.0\n",
      "3  56.0      1969.0\n",
      "4  22.0      2003.0\n"
     ]
    }
   ],
   "source": [
    "from datetime import datetime\n",
    "\n",
    "# Get the current year\n",
    "current_year = datetime.now().year\n",
    "\n",
    "# Create the Birth Year column\n",
    "B_customer['Birth_Year'] = current_year - B_customer['Age']\n",
    "\n",
    "# Display the first few rows to verify\n",
    "print(B_customer[['Age', 'Birth_Year']].head())\n"
   ]
  },
  {
   "cell_type": "markdown",
   "id": "a07cd54b",
   "metadata": {},
   "source": [
    "### Change Datatype"
   ]
  },
  {
   "cell_type": "code",
   "execution_count": 69,
   "id": "17fdd8cb",
   "metadata": {},
   "outputs": [
    {
     "data": {
      "text/html": [
       "<div>\n",
       "<style scoped>\n",
       "    .dataframe tbody tr th:only-of-type {\n",
       "        vertical-align: middle;\n",
       "    }\n",
       "\n",
       "    .dataframe tbody tr th {\n",
       "        vertical-align: top;\n",
       "    }\n",
       "\n",
       "    .dataframe thead th {\n",
       "        text-align: right;\n",
       "    }\n",
       "</style>\n",
       "<table border=\"1\" class=\"dataframe\">\n",
       "  <thead>\n",
       "    <tr style=\"text-align: right;\">\n",
       "      <th></th>\n",
       "      <th>Customer_ID</th>\n",
       "      <th>Name</th>\n",
       "      <th>Email</th>\n",
       "      <th>Phone</th>\n",
       "      <th>Address</th>\n",
       "      <th>City</th>\n",
       "      <th>State</th>\n",
       "      <th>Zipcode</th>\n",
       "      <th>Country</th>\n",
       "      <th>Age</th>\n",
       "      <th>Gender</th>\n",
       "      <th>Income</th>\n",
       "      <th>Customer_Segment</th>\n",
       "      <th>Feedback</th>\n",
       "      <th>Ratings</th>\n",
       "      <th>Transaction_ID</th>\n",
       "      <th>Product ID</th>\n",
       "      <th>Birth_Year</th>\n",
       "    </tr>\n",
       "  </thead>\n",
       "  <tbody>\n",
       "    <tr>\n",
       "      <th>0</th>\n",
       "      <td>37249.0</td>\n",
       "      <td>Michelle Harrington</td>\n",
       "      <td>Ebony39@gmail.com</td>\n",
       "      <td>1.414787e+09</td>\n",
       "      <td>3959 Amanda Burgs</td>\n",
       "      <td>Dortmund</td>\n",
       "      <td>Berlin</td>\n",
       "      <td>77985.0</td>\n",
       "      <td>Germany</td>\n",
       "      <td>21.0</td>\n",
       "      <td>Male</td>\n",
       "      <td>Low</td>\n",
       "      <td>Regular</td>\n",
       "      <td>Excellent</td>\n",
       "      <td>5.0</td>\n",
       "      <td>8691788.0</td>\n",
       "      <td>69417</td>\n",
       "      <td>2004.0</td>\n",
       "    </tr>\n",
       "    <tr>\n",
       "      <th>1</th>\n",
       "      <td>69749.0</td>\n",
       "      <td>Kelsey Hill</td>\n",
       "      <td>Mark36@gmail.com</td>\n",
       "      <td>6.852900e+09</td>\n",
       "      <td>82072 Dawn Centers</td>\n",
       "      <td>Nottingham</td>\n",
       "      <td>England</td>\n",
       "      <td>99071.0</td>\n",
       "      <td>UK</td>\n",
       "      <td>19.0</td>\n",
       "      <td>Female</td>\n",
       "      <td>Low</td>\n",
       "      <td>Premium</td>\n",
       "      <td>Excellent</td>\n",
       "      <td>4.0</td>\n",
       "      <td>2174773.0</td>\n",
       "      <td>24176</td>\n",
       "      <td>2006.0</td>\n",
       "    </tr>\n",
       "    <tr>\n",
       "      <th>2</th>\n",
       "      <td>30192.0</td>\n",
       "      <td>Scott Jensen</td>\n",
       "      <td>Shane85@gmail.com</td>\n",
       "      <td>8.362160e+09</td>\n",
       "      <td>4133 Young Canyon</td>\n",
       "      <td>Geelong</td>\n",
       "      <td>New South Wales</td>\n",
       "      <td>75929.0</td>\n",
       "      <td>Australia</td>\n",
       "      <td>48.0</td>\n",
       "      <td>Male</td>\n",
       "      <td>Low</td>\n",
       "      <td>Regular</td>\n",
       "      <td>Average</td>\n",
       "      <td>2.0</td>\n",
       "      <td>6679610.0</td>\n",
       "      <td>48029</td>\n",
       "      <td>1977.0</td>\n",
       "    </tr>\n",
       "  </tbody>\n",
       "</table>\n",
       "</div>"
      ],
      "text/plain": [
       "   Customer_ID                 Name              Email         Phone  \\\n",
       "0      37249.0  Michelle Harrington  Ebony39@gmail.com  1.414787e+09   \n",
       "1      69749.0          Kelsey Hill   Mark36@gmail.com  6.852900e+09   \n",
       "2      30192.0         Scott Jensen  Shane85@gmail.com  8.362160e+09   \n",
       "\n",
       "              Address        City            State  Zipcode    Country   Age  \\\n",
       "0   3959 Amanda Burgs    Dortmund           Berlin  77985.0    Germany  21.0   \n",
       "1  82072 Dawn Centers  Nottingham          England  99071.0         UK  19.0   \n",
       "2   4133 Young Canyon     Geelong  New South Wales  75929.0  Australia  48.0   \n",
       "\n",
       "   Gender Income Customer_Segment   Feedback  Ratings  Transaction_ID  \\\n",
       "0    Male    Low          Regular  Excellent      5.0       8691788.0   \n",
       "1  Female    Low          Premium  Excellent      4.0       2174773.0   \n",
       "2    Male    Low          Regular    Average      2.0       6679610.0   \n",
       "\n",
       "   Product ID  Birth_Year  \n",
       "0       69417      2004.0  \n",
       "1       24176      2006.0  \n",
       "2       48029      1977.0  "
      ]
     },
     "execution_count": 69,
     "metadata": {},
     "output_type": "execute_result"
    }
   ],
   "source": [
    "B_customer.head(3)"
   ]
  },
  {
   "cell_type": "code",
   "execution_count": 70,
   "id": "96e7d7a3",
   "metadata": {},
   "outputs": [],
   "source": [
    "cols = ['Transaction_ID', 'Customer_ID', 'Zipcode','Age','Birth_Year','Product ID']  # Specify column names\n",
    "B_customer[cols] = B_customer[cols].apply(lambda x: x.astype(int))"
   ]
  },
  {
   "cell_type": "code",
   "execution_count": 71,
   "id": "b10d60bd",
   "metadata": {},
   "outputs": [
    {
     "data": {
      "text/plain": [
       "Transaction_ID    int32\n",
       "Customer_ID       int32\n",
       "Zipcode           int32\n",
       "Age               int32\n",
       "Birth_Year        int32\n",
       "Product ID        int32\n",
       "dtype: object"
      ]
     },
     "execution_count": 71,
     "metadata": {},
     "output_type": "execute_result"
    }
   ],
   "source": [
    "B_customer[['Transaction_ID', 'Customer_ID', 'Zipcode','Age','Birth_Year','Product ID']].dtypes"
   ]
  },
  {
   "cell_type": "code",
   "execution_count": 72,
   "id": "a9d6da18",
   "metadata": {},
   "outputs": [
    {
     "data": {
      "text/html": [
       "<div>\n",
       "<style scoped>\n",
       "    .dataframe tbody tr th:only-of-type {\n",
       "        vertical-align: middle;\n",
       "    }\n",
       "\n",
       "    .dataframe tbody tr th {\n",
       "        vertical-align: top;\n",
       "    }\n",
       "\n",
       "    .dataframe thead th {\n",
       "        text-align: right;\n",
       "    }\n",
       "</style>\n",
       "<table border=\"1\" class=\"dataframe\">\n",
       "  <thead>\n",
       "    <tr style=\"text-align: right;\">\n",
       "      <th></th>\n",
       "      <th>Customer_ID</th>\n",
       "      <th>Name</th>\n",
       "      <th>Email</th>\n",
       "      <th>Phone</th>\n",
       "      <th>Address</th>\n",
       "      <th>City</th>\n",
       "      <th>State</th>\n",
       "      <th>Zipcode</th>\n",
       "      <th>Country</th>\n",
       "      <th>Age</th>\n",
       "      <th>Gender</th>\n",
       "      <th>Income</th>\n",
       "      <th>Customer_Segment</th>\n",
       "      <th>Feedback</th>\n",
       "      <th>Ratings</th>\n",
       "      <th>Transaction_ID</th>\n",
       "      <th>Product ID</th>\n",
       "      <th>Birth_Year</th>\n",
       "    </tr>\n",
       "  </thead>\n",
       "  <tbody>\n",
       "    <tr>\n",
       "      <th>0</th>\n",
       "      <td>37249</td>\n",
       "      <td>Michelle Harrington</td>\n",
       "      <td>Ebony39@gmail.com</td>\n",
       "      <td>1.414787e+09</td>\n",
       "      <td>3959 Amanda Burgs</td>\n",
       "      <td>Dortmund</td>\n",
       "      <td>Berlin</td>\n",
       "      <td>77985</td>\n",
       "      <td>Germany</td>\n",
       "      <td>21</td>\n",
       "      <td>Male</td>\n",
       "      <td>Low</td>\n",
       "      <td>Regular</td>\n",
       "      <td>Excellent</td>\n",
       "      <td>5.0</td>\n",
       "      <td>8691788</td>\n",
       "      <td>69417</td>\n",
       "      <td>2004</td>\n",
       "    </tr>\n",
       "    <tr>\n",
       "      <th>1</th>\n",
       "      <td>69749</td>\n",
       "      <td>Kelsey Hill</td>\n",
       "      <td>Mark36@gmail.com</td>\n",
       "      <td>6.852900e+09</td>\n",
       "      <td>82072 Dawn Centers</td>\n",
       "      <td>Nottingham</td>\n",
       "      <td>England</td>\n",
       "      <td>99071</td>\n",
       "      <td>UK</td>\n",
       "      <td>19</td>\n",
       "      <td>Female</td>\n",
       "      <td>Low</td>\n",
       "      <td>Premium</td>\n",
       "      <td>Excellent</td>\n",
       "      <td>4.0</td>\n",
       "      <td>2174773</td>\n",
       "      <td>24176</td>\n",
       "      <td>2006</td>\n",
       "    </tr>\n",
       "    <tr>\n",
       "      <th>2</th>\n",
       "      <td>30192</td>\n",
       "      <td>Scott Jensen</td>\n",
       "      <td>Shane85@gmail.com</td>\n",
       "      <td>8.362160e+09</td>\n",
       "      <td>4133 Young Canyon</td>\n",
       "      <td>Geelong</td>\n",
       "      <td>New South Wales</td>\n",
       "      <td>75929</td>\n",
       "      <td>Australia</td>\n",
       "      <td>48</td>\n",
       "      <td>Male</td>\n",
       "      <td>Low</td>\n",
       "      <td>Regular</td>\n",
       "      <td>Average</td>\n",
       "      <td>2.0</td>\n",
       "      <td>6679610</td>\n",
       "      <td>48029</td>\n",
       "      <td>1977</td>\n",
       "    </tr>\n",
       "  </tbody>\n",
       "</table>\n",
       "</div>"
      ],
      "text/plain": [
       "   Customer_ID                 Name              Email         Phone  \\\n",
       "0        37249  Michelle Harrington  Ebony39@gmail.com  1.414787e+09   \n",
       "1        69749          Kelsey Hill   Mark36@gmail.com  6.852900e+09   \n",
       "2        30192         Scott Jensen  Shane85@gmail.com  8.362160e+09   \n",
       "\n",
       "              Address        City            State  Zipcode    Country  Age  \\\n",
       "0   3959 Amanda Burgs    Dortmund           Berlin    77985    Germany   21   \n",
       "1  82072 Dawn Centers  Nottingham          England    99071         UK   19   \n",
       "2   4133 Young Canyon     Geelong  New South Wales    75929  Australia   48   \n",
       "\n",
       "   Gender Income Customer_Segment   Feedback  Ratings  Transaction_ID  \\\n",
       "0    Male    Low          Regular  Excellent      5.0         8691788   \n",
       "1  Female    Low          Premium  Excellent      4.0         2174773   \n",
       "2    Male    Low          Regular    Average      2.0         6679610   \n",
       "\n",
       "   Product ID  Birth_Year  \n",
       "0       69417        2004  \n",
       "1       24176        2006  \n",
       "2       48029        1977  "
      ]
     },
     "execution_count": 72,
     "metadata": {},
     "output_type": "execute_result"
    }
   ],
   "source": [
    "B_customer.head(3)"
   ]
  },
  {
   "cell_type": "markdown",
   "id": "93f09442",
   "metadata": {},
   "source": [
    "## B_order - Change Datatype"
   ]
  },
  {
   "cell_type": "code",
   "execution_count": 73,
   "id": "c81f18be",
   "metadata": {},
   "outputs": [
    {
     "data": {
      "text/html": [
       "<div>\n",
       "<style scoped>\n",
       "    .dataframe tbody tr th:only-of-type {\n",
       "        vertical-align: middle;\n",
       "    }\n",
       "\n",
       "    .dataframe tbody tr th {\n",
       "        vertical-align: top;\n",
       "    }\n",
       "\n",
       "    .dataframe thead th {\n",
       "        text-align: right;\n",
       "    }\n",
       "</style>\n",
       "<table border=\"1\" class=\"dataframe\">\n",
       "  <thead>\n",
       "    <tr style=\"text-align: right;\">\n",
       "      <th></th>\n",
       "      <th>Transaction_ID</th>\n",
       "      <th>Date</th>\n",
       "      <th>Ship Date</th>\n",
       "      <th>Delivery Date</th>\n",
       "      <th>Year</th>\n",
       "      <th>Month</th>\n",
       "      <th>Time</th>\n",
       "      <th>Total_Purchases</th>\n",
       "      <th>Amount</th>\n",
       "      <th>Total_Amount</th>\n",
       "      <th>Shipping_Method</th>\n",
       "      <th>Payment_Method</th>\n",
       "      <th>Order_Status</th>\n",
       "      <th>Product ID</th>\n",
       "      <th>Customer_ID</th>\n",
       "    </tr>\n",
       "  </thead>\n",
       "  <tbody>\n",
       "    <tr>\n",
       "      <th>0</th>\n",
       "      <td>8691788.0</td>\n",
       "      <td>2023-09-18</td>\n",
       "      <td>2023-09-22</td>\n",
       "      <td>2023-09-24</td>\n",
       "      <td>2023.0</td>\n",
       "      <td>September</td>\n",
       "      <td>22:03:55</td>\n",
       "      <td>3.0</td>\n",
       "      <td>108.028757</td>\n",
       "      <td>324.086270</td>\n",
       "      <td>Same-Day</td>\n",
       "      <td>Debit Card</td>\n",
       "      <td>Shipped</td>\n",
       "      <td>69417</td>\n",
       "      <td>37249.0</td>\n",
       "    </tr>\n",
       "    <tr>\n",
       "      <th>1</th>\n",
       "      <td>2174773.0</td>\n",
       "      <td>2023-12-31</td>\n",
       "      <td>2024-01-03</td>\n",
       "      <td>2024-01-04</td>\n",
       "      <td>2023.0</td>\n",
       "      <td>December</td>\n",
       "      <td>8:42:04</td>\n",
       "      <td>2.0</td>\n",
       "      <td>403.353907</td>\n",
       "      <td>806.707815</td>\n",
       "      <td>Standard</td>\n",
       "      <td>Credit Card</td>\n",
       "      <td>Processing</td>\n",
       "      <td>24176</td>\n",
       "      <td>69749.0</td>\n",
       "    </tr>\n",
       "    <tr>\n",
       "      <th>2</th>\n",
       "      <td>6679610.0</td>\n",
       "      <td>2023-04-26</td>\n",
       "      <td>2023-04-30</td>\n",
       "      <td>2023-05-03</td>\n",
       "      <td>2023.0</td>\n",
       "      <td>April</td>\n",
       "      <td>4:06:29</td>\n",
       "      <td>3.0</td>\n",
       "      <td>354.477600</td>\n",
       "      <td>1063.432799</td>\n",
       "      <td>Same-Day</td>\n",
       "      <td>Credit Card</td>\n",
       "      <td>Processing</td>\n",
       "      <td>48029</td>\n",
       "      <td>30192.0</td>\n",
       "    </tr>\n",
       "  </tbody>\n",
       "</table>\n",
       "</div>"
      ],
      "text/plain": [
       "   Transaction_ID        Date   Ship Date Delivery Date    Year      Month  \\\n",
       "0       8691788.0  2023-09-18  2023-09-22    2023-09-24  2023.0  September   \n",
       "1       2174773.0  2023-12-31  2024-01-03    2024-01-04  2023.0   December   \n",
       "2       6679610.0  2023-04-26  2023-04-30    2023-05-03  2023.0      April   \n",
       "\n",
       "       Time  Total_Purchases      Amount  Total_Amount Shipping_Method  \\\n",
       "0  22:03:55              3.0  108.028757    324.086270        Same-Day   \n",
       "1   8:42:04              2.0  403.353907    806.707815        Standard   \n",
       "2   4:06:29              3.0  354.477600   1063.432799        Same-Day   \n",
       "\n",
       "  Payment_Method Order_Status  Product ID  Customer_ID  \n",
       "0     Debit Card      Shipped       69417      37249.0  \n",
       "1    Credit Card   Processing       24176      69749.0  \n",
       "2    Credit Card   Processing       48029      30192.0  "
      ]
     },
     "execution_count": 73,
     "metadata": {},
     "output_type": "execute_result"
    }
   ],
   "source": [
    "B_order.head(3)"
   ]
  },
  {
   "cell_type": "code",
   "execution_count": 74,
   "id": "4acb2836",
   "metadata": {},
   "outputs": [],
   "source": [
    "cols = ['Transaction_ID', 'Customer_ID', 'Year']  # Specify column names\n",
    "B_order[cols] = B_order[cols].apply(lambda x: x.astype(int))"
   ]
  },
  {
   "cell_type": "code",
   "execution_count": 75,
   "id": "33fdffed",
   "metadata": {},
   "outputs": [
    {
     "data": {
      "text/plain": [
       "Transaction_ID    int32\n",
       "Customer_ID       int32\n",
       "Year              int32\n",
       "dtype: object"
      ]
     },
     "execution_count": 75,
     "metadata": {},
     "output_type": "execute_result"
    }
   ],
   "source": [
    "B_order[['Transaction_ID', 'Customer_ID', 'Year']].dtypes"
   ]
  },
  {
   "cell_type": "code",
   "execution_count": 76,
   "id": "90b7b09e",
   "metadata": {},
   "outputs": [
    {
     "data": {
      "text/html": [
       "<div>\n",
       "<style scoped>\n",
       "    .dataframe tbody tr th:only-of-type {\n",
       "        vertical-align: middle;\n",
       "    }\n",
       "\n",
       "    .dataframe tbody tr th {\n",
       "        vertical-align: top;\n",
       "    }\n",
       "\n",
       "    .dataframe thead th {\n",
       "        text-align: right;\n",
       "    }\n",
       "</style>\n",
       "<table border=\"1\" class=\"dataframe\">\n",
       "  <thead>\n",
       "    <tr style=\"text-align: right;\">\n",
       "      <th></th>\n",
       "      <th>Transaction_ID</th>\n",
       "      <th>Date</th>\n",
       "      <th>Ship Date</th>\n",
       "      <th>Delivery Date</th>\n",
       "      <th>Year</th>\n",
       "      <th>Month</th>\n",
       "      <th>Time</th>\n",
       "      <th>Total_Purchases</th>\n",
       "      <th>Amount</th>\n",
       "      <th>Total_Amount</th>\n",
       "      <th>Shipping_Method</th>\n",
       "      <th>Payment_Method</th>\n",
       "      <th>Order_Status</th>\n",
       "      <th>Product ID</th>\n",
       "      <th>Customer_ID</th>\n",
       "    </tr>\n",
       "  </thead>\n",
       "  <tbody>\n",
       "    <tr>\n",
       "      <th>0</th>\n",
       "      <td>8691788</td>\n",
       "      <td>2023-09-18</td>\n",
       "      <td>2023-09-22</td>\n",
       "      <td>2023-09-24</td>\n",
       "      <td>2023</td>\n",
       "      <td>September</td>\n",
       "      <td>22:03:55</td>\n",
       "      <td>3.0</td>\n",
       "      <td>108.028757</td>\n",
       "      <td>324.086270</td>\n",
       "      <td>Same-Day</td>\n",
       "      <td>Debit Card</td>\n",
       "      <td>Shipped</td>\n",
       "      <td>69417</td>\n",
       "      <td>37249</td>\n",
       "    </tr>\n",
       "    <tr>\n",
       "      <th>1</th>\n",
       "      <td>2174773</td>\n",
       "      <td>2023-12-31</td>\n",
       "      <td>2024-01-03</td>\n",
       "      <td>2024-01-04</td>\n",
       "      <td>2023</td>\n",
       "      <td>December</td>\n",
       "      <td>8:42:04</td>\n",
       "      <td>2.0</td>\n",
       "      <td>403.353907</td>\n",
       "      <td>806.707815</td>\n",
       "      <td>Standard</td>\n",
       "      <td>Credit Card</td>\n",
       "      <td>Processing</td>\n",
       "      <td>24176</td>\n",
       "      <td>69749</td>\n",
       "    </tr>\n",
       "    <tr>\n",
       "      <th>2</th>\n",
       "      <td>6679610</td>\n",
       "      <td>2023-04-26</td>\n",
       "      <td>2023-04-30</td>\n",
       "      <td>2023-05-03</td>\n",
       "      <td>2023</td>\n",
       "      <td>April</td>\n",
       "      <td>4:06:29</td>\n",
       "      <td>3.0</td>\n",
       "      <td>354.477600</td>\n",
       "      <td>1063.432799</td>\n",
       "      <td>Same-Day</td>\n",
       "      <td>Credit Card</td>\n",
       "      <td>Processing</td>\n",
       "      <td>48029</td>\n",
       "      <td>30192</td>\n",
       "    </tr>\n",
       "  </tbody>\n",
       "</table>\n",
       "</div>"
      ],
      "text/plain": [
       "   Transaction_ID        Date   Ship Date Delivery Date  Year      Month  \\\n",
       "0         8691788  2023-09-18  2023-09-22    2023-09-24  2023  September   \n",
       "1         2174773  2023-12-31  2024-01-03    2024-01-04  2023   December   \n",
       "2         6679610  2023-04-26  2023-04-30    2023-05-03  2023      April   \n",
       "\n",
       "       Time  Total_Purchases      Amount  Total_Amount Shipping_Method  \\\n",
       "0  22:03:55              3.0  108.028757    324.086270        Same-Day   \n",
       "1   8:42:04              2.0  403.353907    806.707815        Standard   \n",
       "2   4:06:29              3.0  354.477600   1063.432799        Same-Day   \n",
       "\n",
       "  Payment_Method Order_Status  Product ID  Customer_ID  \n",
       "0     Debit Card      Shipped       69417        37249  \n",
       "1    Credit Card   Processing       24176        69749  \n",
       "2    Credit Card   Processing       48029        30192  "
      ]
     },
     "execution_count": 76,
     "metadata": {},
     "output_type": "execute_result"
    }
   ],
   "source": [
    "B_order.head(3)"
   ]
  },
  {
   "cell_type": "markdown",
   "id": "94bbaa9f",
   "metadata": {},
   "source": [
    "## B_product - Change Datatype"
   ]
  },
  {
   "cell_type": "code",
   "execution_count": 77,
   "id": "40f2d2d4",
   "metadata": {},
   "outputs": [
    {
     "data": {
      "text/html": [
       "<div>\n",
       "<style scoped>\n",
       "    .dataframe tbody tr th:only-of-type {\n",
       "        vertical-align: middle;\n",
       "    }\n",
       "\n",
       "    .dataframe tbody tr th {\n",
       "        vertical-align: top;\n",
       "    }\n",
       "\n",
       "    .dataframe thead th {\n",
       "        text-align: right;\n",
       "    }\n",
       "</style>\n",
       "<table border=\"1\" class=\"dataframe\">\n",
       "  <thead>\n",
       "    <tr style=\"text-align: right;\">\n",
       "      <th></th>\n",
       "      <th>Product ID</th>\n",
       "      <th>products</th>\n",
       "      <th>Product_Category</th>\n",
       "      <th>Product_Brand</th>\n",
       "      <th>Product_Type</th>\n",
       "      <th>Customer_ID</th>\n",
       "      <th>Transaction_ID</th>\n",
       "    </tr>\n",
       "  </thead>\n",
       "  <tbody>\n",
       "    <tr>\n",
       "      <th>0</th>\n",
       "      <td>69417</td>\n",
       "      <td>Cycling shorts</td>\n",
       "      <td>Clothing</td>\n",
       "      <td>Nike</td>\n",
       "      <td>Shorts</td>\n",
       "      <td>37249.0</td>\n",
       "      <td>8691788.0</td>\n",
       "    </tr>\n",
       "    <tr>\n",
       "      <th>1</th>\n",
       "      <td>24176</td>\n",
       "      <td>Lenovo Tab</td>\n",
       "      <td>Electronics</td>\n",
       "      <td>Samsung</td>\n",
       "      <td>Tablet</td>\n",
       "      <td>69749.0</td>\n",
       "      <td>2174773.0</td>\n",
       "    </tr>\n",
       "    <tr>\n",
       "      <th>2</th>\n",
       "      <td>48029</td>\n",
       "      <td>Sports equipment</td>\n",
       "      <td>Books</td>\n",
       "      <td>Penguin Books</td>\n",
       "      <td>Children's</td>\n",
       "      <td>30192.0</td>\n",
       "      <td>6679610.0</td>\n",
       "    </tr>\n",
       "  </tbody>\n",
       "</table>\n",
       "</div>"
      ],
      "text/plain": [
       "   Product ID          products Product_Category  Product_Brand Product_Type  \\\n",
       "0       69417    Cycling shorts         Clothing           Nike       Shorts   \n",
       "1       24176        Lenovo Tab      Electronics        Samsung       Tablet   \n",
       "2       48029  Sports equipment            Books  Penguin Books   Children's   \n",
       "\n",
       "   Customer_ID  Transaction_ID  \n",
       "0      37249.0       8691788.0  \n",
       "1      69749.0       2174773.0  \n",
       "2      30192.0       6679610.0  "
      ]
     },
     "execution_count": 77,
     "metadata": {},
     "output_type": "execute_result"
    }
   ],
   "source": [
    "B_product.head(3)"
   ]
  },
  {
   "cell_type": "code",
   "execution_count": 78,
   "id": "036f552c",
   "metadata": {},
   "outputs": [],
   "source": [
    "cols = ['Transaction_ID', 'Customer_ID']  # Specify column names\n",
    "B_product[cols] = B_product[cols].apply(lambda x: x.astype(int))"
   ]
  },
  {
   "cell_type": "code",
   "execution_count": 79,
   "id": "23c11063",
   "metadata": {},
   "outputs": [
    {
     "data": {
      "text/plain": [
       "Transaction_ID    int32\n",
       "Customer_ID       int32\n",
       "dtype: object"
      ]
     },
     "execution_count": 79,
     "metadata": {},
     "output_type": "execute_result"
    }
   ],
   "source": [
    "B_product[['Transaction_ID', 'Customer_ID']].dtypes"
   ]
  },
  {
   "cell_type": "code",
   "execution_count": 80,
   "id": "56cd70ed",
   "metadata": {},
   "outputs": [
    {
     "data": {
      "text/html": [
       "<div>\n",
       "<style scoped>\n",
       "    .dataframe tbody tr th:only-of-type {\n",
       "        vertical-align: middle;\n",
       "    }\n",
       "\n",
       "    .dataframe tbody tr th {\n",
       "        vertical-align: top;\n",
       "    }\n",
       "\n",
       "    .dataframe thead th {\n",
       "        text-align: right;\n",
       "    }\n",
       "</style>\n",
       "<table border=\"1\" class=\"dataframe\">\n",
       "  <thead>\n",
       "    <tr style=\"text-align: right;\">\n",
       "      <th></th>\n",
       "      <th>Product ID</th>\n",
       "      <th>products</th>\n",
       "      <th>Product_Category</th>\n",
       "      <th>Product_Brand</th>\n",
       "      <th>Product_Type</th>\n",
       "      <th>Customer_ID</th>\n",
       "      <th>Transaction_ID</th>\n",
       "    </tr>\n",
       "  </thead>\n",
       "  <tbody>\n",
       "    <tr>\n",
       "      <th>0</th>\n",
       "      <td>69417</td>\n",
       "      <td>Cycling shorts</td>\n",
       "      <td>Clothing</td>\n",
       "      <td>Nike</td>\n",
       "      <td>Shorts</td>\n",
       "      <td>37249</td>\n",
       "      <td>8691788</td>\n",
       "    </tr>\n",
       "    <tr>\n",
       "      <th>1</th>\n",
       "      <td>24176</td>\n",
       "      <td>Lenovo Tab</td>\n",
       "      <td>Electronics</td>\n",
       "      <td>Samsung</td>\n",
       "      <td>Tablet</td>\n",
       "      <td>69749</td>\n",
       "      <td>2174773</td>\n",
       "    </tr>\n",
       "    <tr>\n",
       "      <th>2</th>\n",
       "      <td>48029</td>\n",
       "      <td>Sports equipment</td>\n",
       "      <td>Books</td>\n",
       "      <td>Penguin Books</td>\n",
       "      <td>Children's</td>\n",
       "      <td>30192</td>\n",
       "      <td>6679610</td>\n",
       "    </tr>\n",
       "  </tbody>\n",
       "</table>\n",
       "</div>"
      ],
      "text/plain": [
       "   Product ID          products Product_Category  Product_Brand Product_Type  \\\n",
       "0       69417    Cycling shorts         Clothing           Nike       Shorts   \n",
       "1       24176        Lenovo Tab      Electronics        Samsung       Tablet   \n",
       "2       48029  Sports equipment            Books  Penguin Books   Children's   \n",
       "\n",
       "   Customer_ID  Transaction_ID  \n",
       "0        37249         8691788  \n",
       "1        69749         2174773  \n",
       "2        30192         6679610  "
      ]
     },
     "execution_count": 80,
     "metadata": {},
     "output_type": "execute_result"
    }
   ],
   "source": [
    "B_product.head(3)"
   ]
  },
  {
   "cell_type": "markdown",
   "id": "23acfe7b",
   "metadata": {},
   "source": [
    "---------------------------------------------------------------------------------------------------------------------------"
   ]
  },
  {
   "cell_type": "markdown",
   "id": "3a6cf879",
   "metadata": {},
   "source": [
    "## Save Processing data to Silver Layer"
   ]
  },
  {
   "cell_type": "code",
   "execution_count": 81,
   "id": "f5e946fd",
   "metadata": {},
   "outputs": [],
   "source": [
    "B_retail_data.to_csv(\"D:/RAHUL-SIR-MCA-PROJECT-Copy/Silver_Data/retail_data.csv\")"
   ]
  },
  {
   "cell_type": "code",
   "execution_count": 82,
   "id": "093954ac",
   "metadata": {},
   "outputs": [],
   "source": [
    "B_customer.to_csv(\"D:/RAHUL-SIR-MCA-PROJECT-Copy/Silver_Data/customer.csv\")"
   ]
  },
  {
   "cell_type": "code",
   "execution_count": 83,
   "id": "0a97e522",
   "metadata": {},
   "outputs": [],
   "source": [
    "B_order.to_csv(\"D:/RAHUL-SIR-MCA-PROJECT-Copy/Silver_Data/order.csv\")"
   ]
  },
  {
   "cell_type": "code",
   "execution_count": 84,
   "id": "284145dc",
   "metadata": {},
   "outputs": [],
   "source": [
    "B_product.to_csv(\"D:/RAHUL-SIR-MCA-PROJECT-Copy/Silver_Data/product.csv\")"
   ]
  },
  {
   "cell_type": "markdown",
   "id": "398c9ff7",
   "metadata": {},
   "source": [
    "--------------------------------------------------------------------------------------------------------------------------"
   ]
  },
  {
   "cell_type": "markdown",
   "id": "d34b5cf8",
   "metadata": {},
   "source": []
  },
  {
   "cell_type": "code",
   "execution_count": null,
   "id": "856cc3b9",
   "metadata": {},
   "outputs": [],
   "source": []
  },
  {
   "cell_type": "code",
   "execution_count": null,
   "id": "befae097",
   "metadata": {},
   "outputs": [],
   "source": []
  },
  {
   "cell_type": "code",
   "execution_count": null,
   "id": "e66af3a3",
   "metadata": {},
   "outputs": [],
   "source": []
  },
  {
   "cell_type": "code",
   "execution_count": null,
   "id": "9d66e036",
   "metadata": {},
   "outputs": [],
   "source": []
  },
  {
   "cell_type": "code",
   "execution_count": null,
   "id": "085c627e",
   "metadata": {},
   "outputs": [],
   "source": []
  },
  {
   "cell_type": "code",
   "execution_count": null,
   "id": "9a73ea84",
   "metadata": {},
   "outputs": [],
   "source": []
  },
  {
   "cell_type": "code",
   "execution_count": null,
   "id": "4079a0f5",
   "metadata": {},
   "outputs": [],
   "source": []
  }
 ],
 "metadata": {
  "kernelspec": {
   "display_name": "Python 3 (ipykernel)",
   "language": "python",
   "name": "python3"
  },
  "language_info": {
   "codemirror_mode": {
    "name": "ipython",
    "version": 3
   },
   "file_extension": ".py",
   "mimetype": "text/x-python",
   "name": "python",
   "nbconvert_exporter": "python",
   "pygments_lexer": "ipython3",
   "version": "3.10.9"
  }
 },
 "nbformat": 4,
 "nbformat_minor": 5
}
